{
 "cells": [
  {
   "cell_type": "code",
   "execution_count": 1,
   "metadata": {},
   "outputs": [],
   "source": [
    "import pandas as pd\n",
    "from util.interfacedb import setup_lbnl\n",
    "\n",
    "import re "
   ]
  },
  {
   "cell_type": "code",
   "execution_count": 2,
   "metadata": {},
   "outputs": [
    {
     "name": "stdout",
     "output_type": "stream",
     "text": [
      "['1045', '1065', '1125', '12458', '12541', '12614', '12635', '12743', '13881', '145', '165', '205', '245', '2525', '2545', '2565', '2585', '2605', '2625', '2645', '265', '2665', '2685', '2705', '2725', '2745', '2865', '2885', '2905', '2925', '2945', '2965', '2985', '305', '30934', '33336', '33400', '34222', '34242', '345', '385', '405', '425', '42808', '445', '465', '485', '505', '525', '545', '565', '625', '645', '665', '685', '705', '725', '745', '765', '785', '805', '825', '845', '865', '905', '925', '92753', '945', '965', 'CAISO_NORTH', 'CAISO_NORTH_historical', 'CAISO_ZP26', 'CAISO_ZP26_historical', 'R2_solar_train', 'R2_solar_train_ds', 'R2_solar_valid', 'R2_solar_valid_ds', 'RMSE_solar_train', 'RMSE_solar_train_ds', 'RMSE_solar_valid', 'RMSE_solar_valid_ds', 'air_temp_set_1', 'air_temp_set_2', 'alc_watchdog_59', 'alc_watchdog_76', 'altimeter_set_1d', 'aru1_hwr_temp', 'aru1_hws_fr_gpm', 'aru1_hws_temp', 'aru_001_cwr_temp', 'aru_001_cws_fr_gpm', 'aru_001_cws_temp', 'aru_001_hwr_temp', 'aru_001_hws_fr_gpm', 'aru_001_hws_temp', 'aru_001_power_mbtuph', 'cerc_templogger_1', 'cerc_templogger_10', 'cerc_templogger_11', 'cerc_templogger_12', 'cerc_templogger_13', 'cerc_templogger_14', 'cerc_templogger_15', 'cerc_templogger_16', 'cerc_templogger_2', 'cerc_templogger_3', 'cerc_templogger_4', 'cerc_templogger_5', 'cerc_templogger_6', 'cerc_templogger_7', 'cerc_templogger_8', 'cerc_templogger_9', 'd_price', 'data0', 'data1', 'data_collect_time', 'date_time', 'dew_point_temperature_set_1d', 'dewpoint', 'dewpoint_ds', 'dewpoint_ds_current', 'e_price', 'ghi', 'ghi_predict', 'ghi_predict_ds', 'group_1_G_C_lig', 'group_2_G_C_lig', 'group_3_G_C_lig', 'group_4_G_C_lig', 'heat_index_set_1d', 'hp_hp_1status_2', 'hp_hwgp1_kw', 'hp_hwgp1_spd_fbk', 'hp_hwgp2_kw', 'hp_hwgp2_spd_fbk', 'hp_hwr_temp', 'hp_hws_temp', 'hp_p1_vfd_output', 'hp_p2_vfd_output', 'humidity', 'humidity_ds', 'humidity_ds_current', 'icon', 'icon_ds', 'icon_ds_current', 'lig_1045', 'lig_1065', 'lig_1125', 'lig_11348', 'lig_12458', 'lig_12541', 'lig_12614', 'lig_12635', 'lig_12743', 'lig_13881', 'lig_145', 'lig_1505', 'lig_1525', 'lig_1545', 'lig_1565', 'lig_1585', 'lig_1605', 'lig_1625', 'lig_1645', 'lig_165', 'lig_1685', 'lig_1725', 'lig_1745', 'lig_1765', 'lig_1785', 'lig_1805', 'lig_1825', 'lig_1845', 'lig_18613', 'lig_1865', 'lig_1885', 'lig_1905', 'lig_19140', 'lig_19207', 'lig_1925', 'lig_1945', 'lig_1965', 'lig_1985', 'lig_2005', 'lig_2025', 'lig_20259', 'lig_2045', 'lig_205', 'lig_2065', 'lig_2085', 'lig_2105', 'lig_2145', 'lig_2185', 'lig_2205', 'lig_2245', 'lig_2265', 'lig_2285', 'lig_2305', 'lig_2325', 'lig_2345', 'lig_2365', 'lig_2385', 'lig_2405', 'lig_2425', 'lig_2445', 'lig_245', 'lig_2465', 'lig_2485', 'lig_2505', 'lig_2525', 'lig_2545', 'lig_2565', 'lig_2585', 'lig_2605', 'lig_2625', 'lig_2645', 'lig_265', 'lig_2665', 'lig_2685', 'lig_2705', 'lig_2725', 'lig_2745', 'lig_2765', 'lig_2785', 'lig_2805', 'lig_2825', 'lig_2845', 'lig_2865', 'lig_2885', 'lig_2905', 'lig_2925', 'lig_2945', 'lig_2965', 'lig_2985', 'lig_3025', 'lig_3045', 'lig_305', 'lig_3065', 'lig_3085', 'lig_30934', 'lig_3105', 'lig_3145', 'lig_3165', 'lig_3185', 'lig_3205', 'lig_3225', 'lig_3245', 'lig_3265', 'lig_33336', 'lig_33400', 'lig_34222', 'lig_34242', 'lig_345', 'lig_385', 'lig_405', 'lig_425', 'lig_42808', 'lig_445', 'lig_465', 'lig_485', 'lig_505', 'lig_525', 'lig_545', 'lig_565', 'lig_625', 'lig_645', 'lig_665', 'lig_685', 'lig_705', 'lig_725', 'lig_745', 'lig_765', 'lig_785', 'lig_805', 'lig_825', 'lig_845', 'lig_85', 'lig_865', 'lig_905', 'lig_925', 'lig_92753', 'lig_945', 'lig_965', 'mslp', 'mslp_ds', 'mslp_ds_current', 'occ_fourth_count', 'occ_fourth_east', 'occ_fourth_eastIns', 'occ_fourth_eastOuts', 'occ_fourth_south', 'occ_fourth_southIns', 'occ_fourth_southOuts', 'occ_fourth_west', 'occ_fourth_westIns', 'occ_fourth_westOuts', 'occ_fourth_zone', 'occ_fourth_zoneIns', 'occ_fourth_zoneOuts', 'occ_third_count', 'occ_third_east', 'occ_third_eastIns', 'occ_third_eastOuts', 'occ_third_south', 'occ_third_southIns', 'occ_third_southOuts', 'occ_third_west', 'occ_third_westIns', 'occ_third_westOuts', 'occ_third_zone', 'occ_third_zoneIns', 'occ_third_zoneOuts', 'optdat_1_G_C_P_Cool', 'optdat_1_G_C_P_Cool_carbon', 'optdat_1_G_C_P_Cool_cost', 'optdat_1_G_C_P_Cool_energy', 'optdat_1_G_C_P_Cool_slack', 'optdat_1_G_C_P_Fan', 'optdat_1_G_C_P_RetFan', 'optdat_1_G_C_P_RetFan_carbon', 'optdat_1_G_C_P_RetFan_cost', 'optdat_1_G_C_P_RetFan_energy', 'optdat_1_G_C_P_RetFan_slack', 'optdat_1_G_C_P_SupFan', 'optdat_1_G_C_P_SupFan_carbon', 'optdat_1_G_C_P_SupFan_cost', 'optdat_1_G_C_P_SupFan_energy', 'optdat_1_G_C_P_SupFan_slack', 'optdat_1_G_C_QInt', 'optdat_1_G_C_QInt_carbon', 'optdat_1_G_C_QInt_cost', 'optdat_1_G_C_QInt_energy', 'optdat_1_G_C_QInt_slack', 'optdat_1_G_C_Q_Cool', 'optdat_1_G_C_Q_Cool_carbon', 'optdat_1_G_C_Q_Cool_cost', 'optdat_1_G_C_Q_Cool_energy', 'optdat_1_G_C_Q_Heat', 'optdat_1_G_C_Q_Heat_carbon', 'optdat_1_G_C_Q_Heat_cost', 'optdat_1_G_C_Q_Heat_energy', 'optdat_1_G_C_Q_Heat_slack', 'optdat_1_G_C_T_zone_ra', 'optdat_1_G_C_T_zone_ra_carbon', 'optdat_1_G_C_T_zone_ra_cost', 'optdat_1_G_C_T_zone_ra_energy', 'optdat_1_G_C_T_zone_ra_slack', 'optdat_1_G_C_T_zone_sa', 'optdat_1_G_C_T_zone_sa_carbon', 'optdat_1_G_C_T_zone_sa_cost', 'optdat_1_G_C_T_zone_sa_energy', 'optdat_1_G_C_T_zone_sa_slack', 'optdat_1_G_C_m_oa', 'optdat_1_G_C_m_oa_carbon', 'optdat_1_G_C_m_oa_cost', 'optdat_1_G_C_m_oa_energy', 'optdat_1_G_C_m_oa_slack', 'optdat_1_G_C_m_ra', 'optdat_1_G_C_m_ra_carbon', 'optdat_1_G_C_m_ra_cost', 'optdat_1_G_C_m_ra_energy', 'optdat_1_G_C_m_sa', 'optdat_1_G_C_m_sa_carbon', 'optdat_1_G_C_m_sa_cost', 'optdat_1_G_C_m_sa_energy', 'optdat_1_G_C_m_sa_slack', 'optdat_1_G_C_uHwv', 'optdat_1_G_C_uHwv_carbon', 'optdat_1_G_C_uHwv_cost', 'optdat_1_G_C_uHwv_energy', 'optdat_1_G_C_uHwv_slack', 'optdat_1_G_C_u_comp', 'optdat_1_G_C_u_comp_carbon', 'optdat_1_G_C_u_comp_cost', 'optdat_1_G_C_u_comp_energy', 'optdat_1_G_C_u_comp_slack', 'optdat_1_G_C_u_fan', 'optdat_1_G_C_u_fan_carbon', 'optdat_1_G_C_u_fan_cost', 'optdat_1_G_C_u_fan_energy', 'optdat_1_G_C_u_fan_slack', 'optdat_1_G_C_weaHGloHor', 'optdat_1_G_C_weaHGloHor_carbon', 'optdat_1_G_C_weaHGloHor_cost', 'optdat_1_G_C_weaHGloHor_energy', 'optdat_1_G_C_weaHGloHor_slack', 'optdat_1_G_C_weaTDryBul', 'optdat_1_G_C_weaTDryBul_carbon', 'optdat_1_G_C_weaTDryBul_cost', 'optdat_1_G_C_weaTDryBul_energy', 'optdat_1_G_C_weaTDryBul_slack', 'optdat_2_G_C_P_Cool', 'optdat_2_G_C_P_Cool_carbon', 'optdat_2_G_C_P_Cool_cost', 'optdat_2_G_C_P_Cool_energy', 'optdat_2_G_C_P_Cool_slack', 'optdat_2_G_C_P_Fan', 'optdat_2_G_C_P_RetFan', 'optdat_2_G_C_P_RetFan_carbon', 'optdat_2_G_C_P_RetFan_cost', 'optdat_2_G_C_P_RetFan_energy', 'optdat_2_G_C_P_RetFan_slack', 'optdat_2_G_C_P_SupFan', 'optdat_2_G_C_P_SupFan_carbon', 'optdat_2_G_C_P_SupFan_cost', 'optdat_2_G_C_P_SupFan_energy', 'optdat_2_G_C_P_SupFan_slack', 'optdat_2_G_C_QInt', 'optdat_2_G_C_QInt_carbon', 'optdat_2_G_C_QInt_cost', 'optdat_2_G_C_QInt_energy', 'optdat_2_G_C_QInt_slack', 'optdat_2_G_C_Q_Cool', 'optdat_2_G_C_Q_Cool_carbon', 'optdat_2_G_C_Q_Cool_cost', 'optdat_2_G_C_Q_Cool_energy', 'optdat_2_G_C_Q_Heat', 'optdat_2_G_C_Q_Heat_carbon', 'optdat_2_G_C_Q_Heat_cost', 'optdat_2_G_C_Q_Heat_energy', 'optdat_2_G_C_Q_Heat_slack', 'optdat_2_G_C_T_zone_ra', 'optdat_2_G_C_T_zone_ra_carbon', 'optdat_2_G_C_T_zone_ra_cost', 'optdat_2_G_C_T_zone_ra_energy', 'optdat_2_G_C_T_zone_ra_slack', 'optdat_2_G_C_T_zone_sa', 'optdat_2_G_C_T_zone_sa_carbon', 'optdat_2_G_C_T_zone_sa_cost', 'optdat_2_G_C_T_zone_sa_energy', 'optdat_2_G_C_T_zone_sa_slack', 'optdat_2_G_C_m_oa', 'optdat_2_G_C_m_oa_carbon', 'optdat_2_G_C_m_oa_cost', 'optdat_2_G_C_m_oa_energy', 'optdat_2_G_C_m_oa_slack', 'optdat_2_G_C_m_ra', 'optdat_2_G_C_m_ra_carbon', 'optdat_2_G_C_m_ra_cost', 'optdat_2_G_C_m_ra_energy', 'optdat_2_G_C_m_sa', 'optdat_2_G_C_m_sa_carbon', 'optdat_2_G_C_m_sa_cost', 'optdat_2_G_C_m_sa_energy', 'optdat_2_G_C_m_sa_slack', 'optdat_2_G_C_uHwv', 'optdat_2_G_C_uHwv_carbon', 'optdat_2_G_C_uHwv_cost', 'optdat_2_G_C_uHwv_energy', 'optdat_2_G_C_uHwv_slack', 'optdat_2_G_C_u_comp', 'optdat_2_G_C_u_comp_carbon', 'optdat_2_G_C_u_comp_cost', 'optdat_2_G_C_u_comp_energy', 'optdat_2_G_C_u_comp_slack', 'optdat_2_G_C_u_fan', 'optdat_2_G_C_u_fan_carbon', 'optdat_2_G_C_u_fan_cost', 'optdat_2_G_C_u_fan_energy', 'optdat_2_G_C_u_fan_slack', 'optdat_2_G_C_weaHGloHor', 'optdat_2_G_C_weaHGloHor_carbon', 'optdat_2_G_C_weaHGloHor_cost', 'optdat_2_G_C_weaHGloHor_energy', 'optdat_2_G_C_weaHGloHor_slack', 'optdat_2_G_C_weaTDryBul', 'optdat_2_G_C_weaTDryBul_carbon', 'optdat_2_G_C_weaTDryBul_cost', 'optdat_2_G_C_weaTDryBul_energy', 'optdat_2_G_C_weaTDryBul_slack', 'optdat_3_G_C_P_Cool', 'optdat_3_G_C_P_Cool_carbon', 'optdat_3_G_C_P_Cool_cost', 'optdat_3_G_C_P_Cool_energy', 'optdat_3_G_C_P_Cool_slack', 'optdat_3_G_C_P_Fan', 'optdat_3_G_C_P_RetFan', 'optdat_3_G_C_P_RetFan_carbon', 'optdat_3_G_C_P_RetFan_cost', 'optdat_3_G_C_P_RetFan_energy', 'optdat_3_G_C_P_RetFan_slack', 'optdat_3_G_C_P_SupFan', 'optdat_3_G_C_P_SupFan_carbon', 'optdat_3_G_C_P_SupFan_cost', 'optdat_3_G_C_P_SupFan_energy', 'optdat_3_G_C_P_SupFan_slack', 'optdat_3_G_C_QInt', 'optdat_3_G_C_QInt_carbon', 'optdat_3_G_C_QInt_cost', 'optdat_3_G_C_QInt_energy', 'optdat_3_G_C_QInt_slack', 'optdat_3_G_C_Q_Cool', 'optdat_3_G_C_Q_Cool_carbon', 'optdat_3_G_C_Q_Cool_cost', 'optdat_3_G_C_Q_Cool_energy', 'optdat_3_G_C_Q_Heat', 'optdat_3_G_C_Q_Heat_carbon', 'optdat_3_G_C_Q_Heat_cost', 'optdat_3_G_C_Q_Heat_energy', 'optdat_3_G_C_Q_Heat_slack', 'optdat_3_G_C_T_zone_ra', 'optdat_3_G_C_T_zone_ra_carbon', 'optdat_3_G_C_T_zone_ra_cost', 'optdat_3_G_C_T_zone_ra_energy', 'optdat_3_G_C_T_zone_ra_slack', 'optdat_3_G_C_T_zone_sa', 'optdat_3_G_C_T_zone_sa_carbon', 'optdat_3_G_C_T_zone_sa_cost', 'optdat_3_G_C_T_zone_sa_energy', 'optdat_3_G_C_T_zone_sa_slack', 'optdat_3_G_C_m_oa', 'optdat_3_G_C_m_oa_carbon', 'optdat_3_G_C_m_oa_cost', 'optdat_3_G_C_m_oa_energy', 'optdat_3_G_C_m_oa_slack', 'optdat_3_G_C_m_ra', 'optdat_3_G_C_m_ra_carbon', 'optdat_3_G_C_m_ra_cost', 'optdat_3_G_C_m_ra_energy', 'optdat_3_G_C_m_sa', 'optdat_3_G_C_m_sa_carbon', 'optdat_3_G_C_m_sa_cost', 'optdat_3_G_C_m_sa_energy', 'optdat_3_G_C_m_sa_slack', 'optdat_3_G_C_uHwv', 'optdat_3_G_C_uHwv_carbon', 'optdat_3_G_C_uHwv_cost', 'optdat_3_G_C_uHwv_energy', 'optdat_3_G_C_uHwv_slack', 'optdat_3_G_C_u_comp', 'optdat_3_G_C_u_comp_carbon', 'optdat_3_G_C_u_comp_cost', 'optdat_3_G_C_u_comp_energy', 'optdat_3_G_C_u_comp_slack', 'optdat_3_G_C_u_fan', 'optdat_3_G_C_u_fan_carbon', 'optdat_3_G_C_u_fan_cost', 'optdat_3_G_C_u_fan_energy', 'optdat_3_G_C_u_fan_slack', 'optdat_3_G_C_weaHGloHor', 'optdat_3_G_C_weaHGloHor_carbon', 'optdat_3_G_C_weaHGloHor_cost', 'optdat_3_G_C_weaHGloHor_energy', 'optdat_3_G_C_weaHGloHor_slack', 'optdat_3_G_C_weaTDryBul', 'optdat_3_G_C_weaTDryBul_carbon', 'optdat_3_G_C_weaTDryBul_cost', 'optdat_3_G_C_weaTDryBul_energy', 'optdat_3_G_C_weaTDryBul_slack', 'optdat_4_G_C_P_Cool', 'optdat_4_G_C_P_Cool_carbon', 'optdat_4_G_C_P_Cool_cost', 'optdat_4_G_C_P_Cool_energy', 'optdat_4_G_C_P_Cool_slack', 'optdat_4_G_C_P_Fan', 'optdat_4_G_C_P_RetFan', 'optdat_4_G_C_P_RetFan_carbon', 'optdat_4_G_C_P_RetFan_cost', 'optdat_4_G_C_P_RetFan_energy', 'optdat_4_G_C_P_RetFan_slack', 'optdat_4_G_C_P_SupFan', 'optdat_4_G_C_P_SupFan_carbon', 'optdat_4_G_C_P_SupFan_cost', 'optdat_4_G_C_P_SupFan_energy', 'optdat_4_G_C_P_SupFan_slack', 'optdat_4_G_C_QInt', 'optdat_4_G_C_QInt_carbon', 'optdat_4_G_C_QInt_cost', 'optdat_4_G_C_QInt_energy', 'optdat_4_G_C_QInt_slack', 'optdat_4_G_C_Q_Cool', 'optdat_4_G_C_Q_Cool_carbon', 'optdat_4_G_C_Q_Cool_cost', 'optdat_4_G_C_Q_Cool_energy', 'optdat_4_G_C_Q_Heat', 'optdat_4_G_C_Q_Heat_carbon', 'optdat_4_G_C_Q_Heat_cost', 'optdat_4_G_C_Q_Heat_energy', 'optdat_4_G_C_Q_Heat_slack', 'optdat_4_G_C_T_zone_ra', 'optdat_4_G_C_T_zone_ra_carbon', 'optdat_4_G_C_T_zone_ra_cost', 'optdat_4_G_C_T_zone_ra_energy', 'optdat_4_G_C_T_zone_ra_slack', 'optdat_4_G_C_T_zone_sa', 'optdat_4_G_C_T_zone_sa_carbon', 'optdat_4_G_C_T_zone_sa_cost', 'optdat_4_G_C_T_zone_sa_energy', 'optdat_4_G_C_T_zone_sa_slack', 'optdat_4_G_C_m_oa', 'optdat_4_G_C_m_oa_carbon', 'optdat_4_G_C_m_oa_cost', 'optdat_4_G_C_m_oa_energy', 'optdat_4_G_C_m_oa_slack', 'optdat_4_G_C_m_ra', 'optdat_4_G_C_m_ra_carbon', 'optdat_4_G_C_m_ra_cost', 'optdat_4_G_C_m_ra_energy', 'optdat_4_G_C_m_sa', 'optdat_4_G_C_m_sa_carbon', 'optdat_4_G_C_m_sa_cost', 'optdat_4_G_C_m_sa_energy', 'optdat_4_G_C_m_sa_slack', 'optdat_4_G_C_uHwv', 'optdat_4_G_C_uHwv_carbon', 'optdat_4_G_C_uHwv_cost', 'optdat_4_G_C_uHwv_energy', 'optdat_4_G_C_uHwv_slack', 'optdat_4_G_C_u_comp', 'optdat_4_G_C_u_comp_carbon', 'optdat_4_G_C_u_comp_cost', 'optdat_4_G_C_u_comp_energy', 'optdat_4_G_C_u_comp_slack', 'optdat_4_G_C_u_fan', 'optdat_4_G_C_u_fan_carbon', 'optdat_4_G_C_u_fan_cost', 'optdat_4_G_C_u_fan_energy', 'optdat_4_G_C_u_fan_slack', 'optdat_4_G_C_weaHGloHor', 'optdat_4_G_C_weaHGloHor_carbon', 'optdat_4_G_C_weaHGloHor_cost', 'optdat_4_G_C_weaHGloHor_energy', 'optdat_4_G_C_weaHGloHor_slack', 'optdat_4_G_C_weaTDryBul', 'optdat_4_G_C_weaTDryBul_carbon', 'optdat_4_G_C_weaTDryBul_cost', 'optdat_4_G_C_weaTDryBul_energy', 'optdat_4_G_C_weaTDryBul_slack', 'optres_1_G_C', 'optres_1_G_C_carbon', 'optres_1_G_C_cost', 'optres_1_G_C_energy', 'optres_1_G_C_slack', 'optres_2_G_C', 'optres_2_G_C_carbon', 'optres_2_G_C_cost', 'optres_2_G_C_energy', 'optres_2_G_C_slack', 'optres_3_G_C', 'optres_3_G_C_carbon', 'optres_3_G_C_cost', 'optres_3_G_C_energy', 'optres_3_G_C_slack', 'optres_4_G_C', 'optres_4_G_C_carbon', 'optres_4_G_C_cost', 'optres_4_G_C_energy', 'optres_4_G_C_slack', 'optset_1_G_C_T_sa', 'optset_1_G_C_T_sa_carbon', 'optset_1_G_C_T_sa_cost', 'optset_1_G_C_T_sa_energy', 'optset_1_G_C_T_sa_slack', 'optset_1_G_C_T_zone', 'optset_1_G_C_T_zone_carbon', 'optset_1_G_C_T_zone_cost', 'optset_1_G_C_T_zone_energy', 'optset_1_G_C_T_zone_slack', 'optset_1_G_C_f_oa', 'optset_1_G_C_f_oa_carbon', 'optset_1_G_C_f_oa_cost', 'optset_1_G_C_f_oa_energy', 'optset_1_G_C_f_oa_slack', 'optset_2_G_C_T_sa', 'optset_2_G_C_T_sa_carbon', 'optset_2_G_C_T_sa_cost', 'optset_2_G_C_T_sa_energy', 'optset_2_G_C_T_sa_slack', 'optset_2_G_C_T_zone', 'optset_2_G_C_T_zone_carbon', 'optset_2_G_C_T_zone_cost', 'optset_2_G_C_T_zone_energy', 'optset_2_G_C_T_zone_slack', 'optset_2_G_C_f_oa', 'optset_2_G_C_f_oa_carbon', 'optset_2_G_C_f_oa_cost', 'optset_2_G_C_f_oa_energy', 'optset_2_G_C_f_oa_slack', 'optset_3_G_C_T_sa', 'optset_3_G_C_T_sa_carbon', 'optset_3_G_C_T_sa_cost', 'optset_3_G_C_T_sa_energy', 'optset_3_G_C_T_sa_slack', 'optset_3_G_C_T_zone', 'optset_3_G_C_T_zone_carbon', 'optset_3_G_C_T_zone_cost', 'optset_3_G_C_T_zone_energy', 'optset_3_G_C_T_zone_slack', 'optset_3_G_C_f_oa', 'optset_3_G_C_f_oa_carbon', 'optset_3_G_C_f_oa_cost', 'optset_3_G_C_f_oa_energy', 'optset_3_G_C_f_oa_slack', 'optset_4_G_C_T_sa', 'optset_4_G_C_T_sa_carbon', 'optset_4_G_C_T_sa_cost', 'optset_4_G_C_T_sa_energy', 'optset_4_G_C_T_sa_slack', 'optset_4_G_C_T_zone', 'optset_4_G_C_T_zone_carbon', 'optset_4_G_C_T_zone_cost', 'optset_4_G_C_T_zone_energy', 'optset_4_G_C_T_zone_slack', 'optset_4_G_C_f_oa', 'optset_4_G_C_f_oa_carbon', 'optset_4_G_C_f_oa_cost', 'optset_4_G_C_f_oa_energy', 'optset_4_G_C_f_oa_slack', 'parameter_estimate', 'parameter_estimate_1_G_C', 'parameter_estimate_1_G_C_R2C2', 'parameter_estimate_1_G_C_R3C3', 'parameter_estimate_1_G_C_fan_return', 'parameter_estimate_1_G_C_fan_supply', 'parameter_estimate_2_G_C', 'parameter_estimate_2_G_C_R2C2', 'parameter_estimate_2_G_C_R3C3', 'parameter_estimate_2_G_C_fan_return', 'parameter_estimate_2_G_C_fan_supply', 'parameter_estimate_3_G_C', 'parameter_estimate_3_G_C_R2C2', 'parameter_estimate_3_G_C_R3C3', 'parameter_estimate_3_G_C_fan_return', 'parameter_estimate_3_G_C_fan_supply', 'parameter_estimate_4_G_C', 'parameter_estimate_4_G_C_R2C2', 'parameter_estimate_4_G_C_R3C3', 'parameter_estimate_4_G_C_fan_return', 'parameter_estimate_4_G_C_fan_supply', 'parameter_estimate_daq_test', 'parameter_estimate_fan_1_G_C', 'parameter_estimate_fan_2_G_C', 'parameter_estimate_fan_3_G_C', 'parameter_estimate_fan_4_G_C', 'parameter_estimate_noglobal_1_G_C', 'parameter_estimate_noglobal_2_G_C', 'parameter_estimate_noglobal_3_G_C', 'parameter_estimate_noglobal_4_G_C', 'plugLoad_pre', 'precip_accum_fifteen_minute_set_1', 'pressure_set_1', 'relative_humidity_set_1', 'rtu_001_bpdmpr_pct', 'rtu_001_comp1_tr', 'rtu_001_comp2_tr', 'rtu_001_cwr_temp', 'rtu_001_cws_temp', 'rtu_001_ead_fbk_tn', 'rtu_001_econ_stpt_tn', 'rtu_001_fltrd_gnd_lvl_plenum_press_tn', 'rtu_001_fltrd_lvl2_plenum_press_tn', 'rtu_001_fltrd_ra_flow_tn', 'rtu_001_fltrd_sa_flow_tn', 'rtu_001_m565', 'rtu_001_ma_temp', 'rtu_001_oa_flow_tn', 'rtu_001_oa_temp', 'rtu_001_oad_fbk', 'rtu_001_oadmpr_pct', 'rtu_001_pa_static_stpt_tn', 'rtu_001_ra_temp', 'rtu_001_rf_vfd_kw_tn', 'rtu_001_rf_vfd_output', 'rtu_001_rf_vfd_spd_fbk_tn', 'rtu_001_sa_temp', 'rtu_001_sat_sp_tn', 'rtu_001_selected_oat_trend', 'rtu_001_sf_vfd_kw_tn', 'rtu_001_sf_vfd_output', 'rtu_001_sf_vfd_spd_fbk_tn', 'rtu_002_bpdmpr_pct', 'rtu_002_comp1_tr', 'rtu_002_comp2_tr', 'rtu_002_cwr_temp', 'rtu_002_cws_temp', 'rtu_002_ead_fbk_tn', 'rtu_002_econ_stpt_tn', 'rtu_002_fltrd_gnd_lvl_plenum_press_tn', 'rtu_002_fltrd_lvl2_plenum_press_tn', 'rtu_002_fltrd_ra_flow_tn', 'rtu_002_fltrd_sa_flow_tn', 'rtu_002_ma_temp', 'rtu_002_oa_flow_tn', 'rtu_002_oa_temp', 'rtu_002_oad_fbk', 'rtu_002_oadmpr_pct', 'rtu_002_pa_static_stpt_tn', 'rtu_002_ra_temp', 'rtu_002_rf_vfd_kw_tn', 'rtu_002_rf_vfd_output', 'rtu_002_rf_vfd_spd_fbk_tn', 'rtu_002_sa_temp', 'rtu_002_sat_sp_tn', 'rtu_002_selected_oat_trend', 'rtu_002_sf_vfd_kw_tn', 'rtu_002_sf_vfd_output', 'rtu_002_sf_vfd_spd_fbk_tn', 'rtu_003_bpdmpr_pct', 'rtu_003_comp1_tr', 'rtu_003_comp2_tr', 'rtu_003_cwr_temp', 'rtu_003_cws_temp', 'rtu_003_ead_fbk_tn', 'rtu_003_econ_stpt_tn', 'rtu_003_fltrd_gnd_lvl_plenum_press_tn', 'rtu_003_fltrd_lvl2_plenum_press_tn', 'rtu_003_fltrd_ra_flow_tn', 'rtu_003_fltrd_sa_flow_tn', 'rtu_003_ma_temp', 'rtu_003_oa_flow_tn', 'rtu_003_oa_temp', 'rtu_003_oad_fbk', 'rtu_003_oadmpr_pct', 'rtu_003_pa_static_stpt_tn', 'rtu_003_ra_temp', 'rtu_003_rf_vfd_kw_tn', 'rtu_003_rf_vfd_output', 'rtu_003_rf_vfd_spd_fbk_tn', 'rtu_003_sa_temp', 'rtu_003_sat_sp_tn', 'rtu_003_selected_oat_trend', 'rtu_003_sf_vfd_kw_tn', 'rtu_003_sf_vfd_output', 'rtu_003_sf_vfd_spd_fbk_tn', 'rtu_004_bpdmpr_pct', 'rtu_004_comp1_tr', 'rtu_004_comp2_tr', 'rtu_004_cwr_temp', 'rtu_004_cws_temp', 'rtu_004_ead_fbk_tn', 'rtu_004_econ_stpt_tn', 'rtu_004_fltrd_gnd_lvl_plenum_press_tn', 'rtu_004_fltrd_lvl2_plenum_press_tn', 'rtu_004_fltrd_ra_flow_tn', 'rtu_004_fltrd_sa_flow_tn', 'rtu_004_m565', 'rtu_004_ma_temp', 'rtu_004_oa_flow_tn', 'rtu_004_oa_temp', 'rtu_004_oad_fbk', 'rtu_004_oadmpr_pct', 'rtu_004_pa_static_stpt_tn', 'rtu_004_ra_temp', 'rtu_004_rf_vfd_kw_tn', 'rtu_004_rf_vfd_output', 'rtu_004_rf_vfd_spd_fbk_tn', 'rtu_004_sa_temp', 'rtu_004_sat_sp_tn', 'rtu_004_selected_oat_trend', 'rtu_004_sf_vfd_kw_tn', 'rtu_004_sf_vfd_output', 'rtu_004_sf_vfd_spd_fbk_tn', 'sea_level_pressure_set_1d', 'sky', 'sky_ds', 'sky_ds_current', 'solar_radiation_set_1', 'state_1_G_C_T_i', 'state_1_G_C_T_i_slack', 'state_1_G_C_T_w', 'state_1_G_C_T_w_carbon', 'state_1_G_C_T_w_cost', 'state_1_G_C_T_w_energy', 'state_1_G_C_T_w_slack', 'state_1_G_C_T_zone', 'state_1_G_C_T_zone_carbon', 'state_1_G_C_T_zone_cost', 'state_1_G_C_T_zone_energy', 'state_1_G_C_T_zone_slack', 'state_2_G_C_T_i', 'state_2_G_C_T_i_slack', 'state_2_G_C_T_w', 'state_2_G_C_T_w_carbon', 'state_2_G_C_T_w_cost', 'state_2_G_C_T_w_energy', 'state_2_G_C_T_w_slack', 'state_2_G_C_T_zone', 'state_2_G_C_T_zone_carbon', 'state_2_G_C_T_zone_cost', 'state_2_G_C_T_zone_energy', 'state_2_G_C_T_zone_slack', 'state_3_G_C_T_i', 'state_3_G_C_T_i_slack', 'state_3_G_C_T_w', 'state_3_G_C_T_w_carbon', 'state_3_G_C_T_w_cost', 'state_3_G_C_T_w_energy', 'state_3_G_C_T_w_slack', 'state_3_G_C_T_zone', 'state_3_G_C_T_zone_carbon', 'state_3_G_C_T_zone_cost', 'state_3_G_C_T_zone_energy', 'state_3_G_C_T_zone_slack', 'state_4_G_C_T_i', 'state_4_G_C_T_i_slack', 'state_4_G_C_T_w', 'state_4_G_C_T_w_carbon', 'state_4_G_C_T_w_cost', 'state_4_G_C_T_w_energy', 'state_4_G_C_T_w_slack', 'state_4_G_C_T_zone', 'state_4_G_C_T_zone_carbon', 'state_4_G_C_T_zone_cost', 'state_4_G_C_T_zone_energy', 'state_4_G_C_T_zone_slack', 'sub590A14A', 'sub590A14A_clean', 'sub590A14A_pre', 'sub590A15A', 'sub590A1A', 'sub590A2A', 'sub590A2A_clean', 'sub590A2A_pre', 'sub596A1A1A', 'sub596A1A2A', 'sub596A1A3A', 'temp', 'temp_ds', 'temp_ds_current', 'testing', 'volt_set_1', 'wdir', 'wdir_ds', 'wdir_ds_current', 'wind_cardinal_direction_set_1d', 'wind_chill_set_1d', 'wind_direction_set_1', 'wind_gust_set_1', 'wind_speed_set_1', 'wspd', 'wspd_ds', 'wspd_ds_current', 'wx', 'wx_ds', 'wx_ds_current', 'zone_016_cooling_sp', 'zone_016_fan_spd', 'zone_016_heating_sp', 'zone_016_hw_valve', 'zone_016_temp', 'zone_017_cooling_sp', 'zone_017_fan_spd', 'zone_017_heating_sp', 'zone_017_hw_valve', 'zone_017_temp', 'zone_018_cooling_sp', 'zone_018_fan_spd', 'zone_018_heating_sp', 'zone_018_hw_valve', 'zone_018_temp', 'zone_019_cooling_sp', 'zone_019_fan_spd', 'zone_019_heating_sp', 'zone_019_temp', 'zone_021_cooling_sp', 'zone_021_fan_spd', 'zone_021_heating_sp', 'zone_021_hw_valve', 'zone_021_temp', 'zone_022_co2', 'zone_022_cooling_sp', 'zone_022_fan_spd', 'zone_022_heating_sp', 'zone_022_hw_valve', 'zone_022_temp', 'zone_023_cooling_sp', 'zone_023_fan_spd', 'zone_023_heating_sp', 'zone_023_hw_valve', 'zone_023_temp', 'zone_024_cooling_sp', 'zone_024_fan_spd', 'zone_024_heating_sp', 'zone_024_hw_valve', 'zone_024_temp', 'zone_025_cooling_sp', 'zone_025_fan_spd', 'zone_025_heating_sp', 'zone_025_hw_valve', 'zone_025_temp', 'zone_026_cooling_sp', 'zone_026_fan_spd', 'zone_026_heating_sp', 'zone_026_hw_valve', 'zone_026_temp', 'zone_027_cooling_sp', 'zone_027_fan_spd', 'zone_027_heating_sp', 'zone_027_hw_valve', 'zone_027_temp', 'zone_028_co2', 'zone_028_cooling_sp', 'zone_028_fan_spd', 'zone_028_heating_sp', 'zone_028_hw_valve', 'zone_028_temp', 'zone_030_cooling_sp', 'zone_030_fan_spd', 'zone_030_heating_sp', 'zone_030_temp', 'zone_032_cooling_sp', 'zone_032_fan_spd', 'zone_032_heating_sp', 'zone_032_temp', 'zone_033_co2', 'zone_033_cooling_sp', 'zone_033_fan_spd', 'zone_033_heating_sp', 'zone_033_temp', 'zone_035_cooling_sp', 'zone_035_fan_spd', 'zone_035_heating_sp', 'zone_035_hw_valve', 'zone_035_temp', 'zone_036_cooling_sp', 'zone_036_fan_spd', 'zone_036_heating_sp', 'zone_036_hw_valve', 'zone_036_temp', 'zone_037_cooling_sp', 'zone_037_fan_spd', 'zone_037_heating_sp', 'zone_037_hw_valve', 'zone_037_temp', 'zone_038_cooling_sp', 'zone_038_fan_spd', 'zone_038_heating_sp', 'zone_038_hw_valve', 'zone_038_temp', 'zone_039_cooling_sp', 'zone_039_fan_spd', 'zone_039_heating_sp', 'zone_039_hw_valve', 'zone_039_temp', 'zone_040_co2', 'zone_040_cooling_sp', 'zone_040_fan_spd', 'zone_040_heating_sp', 'zone_040_hw_valve', 'zone_040_temp', 'zone_041_cooling_sp', 'zone_041_fan_spd', 'zone_041_heating_sp', 'zone_041_hw_valve', 'zone_041_temp', 'zone_042_cooling_sp', 'zone_042_fan_spd', 'zone_042_heating_sp', 'zone_042_hw_valve', 'zone_042_temp', 'zone_043_cooling_sp', 'zone_043_fan_spd', 'zone_043_heating_sp', 'zone_043_hw_valve', 'zone_043_temp', 'zone_044_co2', 'zone_044_cooling_sp', 'zone_044_fan_spd', 'zone_044_heating_sp', 'zone_044_hw_valve', 'zone_044_temp', 'zone_045_co2', 'zone_045_cooling_sp', 'zone_045_fan_spd', 'zone_045_heating_sp', 'zone_045_hw_valve', 'zone_045_temp', 'zone_046_cooling_sp', 'zone_046_fan_spd', 'zone_046_heating_sp', 'zone_046_hw_valve', 'zone_046_temp', 'zone_047_cooling_sp', 'zone_047_fan_spd', 'zone_047_heating_sp', 'zone_047_hw_valve', 'zone_047_temp', 'zone_048_cooling_sp', 'zone_048_fan_spd', 'zone_048_heating_sp', 'zone_048_hw_valve', 'zone_048_temp', 'zone_049_cooling_sp', 'zone_049_fan_spd', 'zone_049_heating_sp', 'zone_049_temp', 'zone_051_cooling_sp', 'zone_051_fan_spd', 'zone_051_heating_sp', 'zone_051_hw_valve', 'zone_051_temp', 'zone_052_co2', 'zone_052_cooling_sp', 'zone_052_fan_spd', 'zone_052_heating_sp', 'zone_052_hw_valve', 'zone_052_temp', 'zone_053_cooling_sp', 'zone_053_fan_spd', 'zone_053_heating_sp', 'zone_053_hw_valve', 'zone_053_temp', 'zone_054_cooling_sp', 'zone_054_fan_spd', 'zone_054_heating_sp', 'zone_054_hw_valve', 'zone_054_temp', 'zone_055_cooling_sp', 'zone_055_fan_spd', 'zone_055_heating_sp', 'zone_055_hw_valve', 'zone_055_temp', 'zone_056_cooling_sp', 'zone_056_fan_spd', 'zone_056_heating_sp', 'zone_056_hw_valve', 'zone_056_temp', 'zone_057_cooling_sp', 'zone_057_fan_spd', 'zone_057_heating_sp', 'zone_057_hw_valve', 'zone_057_temp', 'zone_058_co2', 'zone_058_cooling_sp', 'zone_058_fan_spd', 'zone_058_heating_sp', 'zone_058_hw_valve', 'zone_058_temp', 'zone_059_cooling_sp', 'zone_059_fan_spd', 'zone_059_heating_sp', 'zone_059_temp', 'zone_061_cooling_sp', 'zone_061_fan_spd', 'zone_061_heating_sp', 'zone_061_hw_valve', 'zone_061_temp', 'zone_062_co2', 'zone_062_cooling_sp', 'zone_062_fan_spd', 'zone_062_heating_sp', 'zone_062_temp', 'zone_063_cooling_sp', 'zone_063_fan_spd', 'zone_063_heating_sp', 'zone_063_hw_valve', 'zone_063_temp', 'zone_064_cooling_sp', 'zone_064_fan_spd', 'zone_064_heating_sp', 'zone_064_hw_valve', 'zone_064_temp', 'zone_065_cooling_sp', 'zone_065_fan_spd', 'zone_065_heating_sp', 'zone_065_hw_valve', 'zone_065_temp', 'zone_066_cooling_sp', 'zone_066_fan_spd', 'zone_066_heating_sp', 'zone_066_hw_valve', 'zone_066_temp', 'zone_067_cooling_sp', 'zone_067_fan_spd', 'zone_067_heating_sp', 'zone_067_hw_valve', 'zone_067_temp', 'zone_068_co2', 'zone_068_cooling_sp', 'zone_068_fan_spd', 'zone_068_heating_sp', 'zone_068_hw_valve', 'zone_068_temp', 'zone_069_cooling_sp', 'zone_069_fan_spd', 'zone_069_heating_sp', 'zone_069_hw_valve', 'zone_069_temp', 'zone_070_cooling_sp', 'zone_070_fan_spd', 'zone_070_heating_sp', 'zone_070_hw_valve', 'zone_070_temp', 'zone_071_cooling_sp', 'zone_071_fan_spd', 'zone_071_heating_sp', 'zone_071_hw_valve', 'zone_071_temp', 'zone_072_co2', 'zone_072_cooling_sp', 'zone_072_fan_spd', 'zone_072_heating_sp', 'zone_072_hw_valve', 'zone_072_temp']\n"
     ]
    }
   ],
   "source": [
    "## Test Building59 database\n",
    "\n",
    "db,dbname = setup_lbnl(databaseName='building59')\n",
    "\n",
    "mea_list = db.get_measurements_list(dbname)\n",
    "\n",
    "print(mea_list)"
   ]
  },
  {
   "cell_type": "code",
   "execution_count": 3,
   "metadata": {},
   "outputs": [
    {
     "name": "stdout",
     "output_type": "stream",
     "text": [
      "['wifi_count']\n"
     ]
    }
   ],
   "source": [
    "## Test Lab wifi database\n",
    "\n",
    "db,dbname = setup_lbnl(databaseName='wifi')\n",
    "\n",
    "mea_list = db.get_measurements_list(dbname)\n",
    "\n",
    "print(mea_list)"
   ]
  },
  {
   "cell_type": "code",
   "execution_count": 4,
   "metadata": {},
   "outputs": [
    {
     "ename": "NameError",
     "evalue": "Database not found",
     "output_type": "error",
     "traceback": [
      "\u001b[1;31m---------------------------------------------------------------------------\u001b[0m",
      "\u001b[1;31mNameError\u001b[0m                                 Traceback (most recent call last)",
      "\u001b[1;32m<ipython-input-4-be2ee0f1cc5f>\u001b[0m in \u001b[0;36m<module>\u001b[1;34m\u001b[0m\n\u001b[0;32m      1\u001b[0m \u001b[1;31m## Test Lab wifi database\u001b[0m\u001b[1;33m\u001b[0m\u001b[1;33m\u001b[0m\u001b[0m\n\u001b[0;32m      2\u001b[0m \u001b[1;33m\u001b[0m\u001b[0m\n\u001b[1;32m----> 3\u001b[1;33m \u001b[0mdb\u001b[0m\u001b[1;33m,\u001b[0m\u001b[0mdbname\u001b[0m \u001b[1;33m=\u001b[0m \u001b[0msetup_lbnl\u001b[0m\u001b[1;33m(\u001b[0m\u001b[0mdatabaseName\u001b[0m\u001b[1;33m=\u001b[0m\u001b[1;34m'notExisted'\u001b[0m\u001b[1;33m)\u001b[0m\u001b[1;33m\u001b[0m\u001b[0m\n\u001b[0m\u001b[0;32m      4\u001b[0m \u001b[1;33m\u001b[0m\u001b[0m\n\u001b[0;32m      5\u001b[0m \u001b[0mmea_list\u001b[0m \u001b[1;33m=\u001b[0m \u001b[0mdb\u001b[0m\u001b[1;33m.\u001b[0m\u001b[0mget_measurements_list\u001b[0m\u001b[1;33m(\u001b[0m\u001b[0mdbname\u001b[0m\u001b[1;33m)\u001b[0m\u001b[1;33m\u001b[0m\u001b[0m\n",
      "\u001b[1;32m~\\Desktop\\git\\influxdb_building59\\util\\interfacedb.py\u001b[0m in \u001b[0;36msetup_lbnl\u001b[1;34m(databaseName, style)\u001b[0m\n\u001b[0;32m     97\u001b[0m         \u001b[0mpassword\u001b[0m \u001b[1;33m=\u001b[0m \u001b[0mpassword\u001b[0m\u001b[1;33m\u001b[0m\u001b[0m\n\u001b[0;32m     98\u001b[0m     \u001b[1;32melse\u001b[0m\u001b[1;33m:\u001b[0m\u001b[1;33m\u001b[0m\u001b[0m\n\u001b[1;32m---> 99\u001b[1;33m         \u001b[1;32mraise\u001b[0m \u001b[0mNameError\u001b[0m\u001b[1;33m(\u001b[0m\u001b[1;34m'Database not found'\u001b[0m\u001b[1;33m)\u001b[0m\u001b[1;33m\u001b[0m\u001b[0m\n\u001b[0m\u001b[0;32m    100\u001b[0m \u001b[1;33m\u001b[0m\u001b[0m\n\u001b[0;32m    101\u001b[0m     \u001b[1;31m# Initialize database\u001b[0m\u001b[1;33m\u001b[0m\u001b[1;33m\u001b[0m\u001b[0m\n",
      "\u001b[1;31mNameError\u001b[0m: Database not found"
     ]
    }
   ],
   "source": [
    "## Test Lab wifi database\n",
    "\n",
    "db,dbname = setup_lbnl(databaseName='notExisted')\n",
    "\n",
    "mea_list = db.get_measurements_list(dbname)"
   ]
  },
  {
   "cell_type": "markdown",
   "metadata": {},
   "source": [
    "## Download data from Building 59\n",
    "The script used to collect data for Na"
   ]
  },
  {
   "cell_type": "code",
   "execution_count": 5,
   "metadata": {},
   "outputs": [],
   "source": [
    "db,dbname = setup_lbnl(databaseName='building59')"
   ]
  },
  {
   "cell_type": "code",
   "execution_count": 12,
   "metadata": {},
   "outputs": [],
   "source": [
    "# zone number mapping\n",
    "zone_list_2_north = ['016','017','018','021','022','023','024','025','026','027','028']\n",
    "zone_list_2_south = ['035','036','037','038','039','040','041','042','043','044']\n",
    "zone_list_1_north = ['046','047','048','051','052','053','054','055','056','057', '058']\n",
    "zone_list_1_south = ['063','064','065','066','067','068','069','070','071','072']\n",
    "zone_list_core = ['019', '030', '032', '033', '045', '059', '061', '062', '049']\n",
    "\n",
    "# Occ data from occ sensor\n",
    "occ = ['occ_third_count','occ_fourth_count']\n",
    "# occ_map = {'occ_third_count':'occ_third_south','occ_fourth_count':'occ_fourth_south'}\n",
    "\n",
    "# Electricity data\n",
    "ele = ['sub590A14A','sub590A15A','sub590A1A','sub590A2A','sub596A1A1A','sub596A1A2A']\n",
    "# ele_map = {'sub590A14A':'mels_S','sub590A15A':'lig_S','sub590A1A':'lig_N',\n",
    "#           'sub590A2A':'mels_N','sub596A1A1A':'hvac_N','sub596A1A2A':'hvac_S'}\n",
    "\n",
    "# Site weather\n",
    "site_weather = ['air_temp_set_'+str(i) for i in range(1,3)] + \\\n",
    "               ['dew_point_temperature_set_1d','relative_humidity_set_1'] + \\\n",
    "               ['solar_radiation_set_1']\n",
    "\n",
    "# Economizer\n",
    "economizer_re = re.compile(\"rtu_.*_econ_stpt_tn\")\n",
    "economizer = list(filter(economizer_re.match, mea_list))\n",
    "\n",
    "# Outside Air\n",
    "oa_flow_rate_re = re.compile(\"rtu_.*_oa_flow_tn\")\n",
    "oa_flow_rate = list(filter(oa_flow_rate_re.match, mea_list))\n",
    "\n",
    "oa_damper_position_re = re.compile(\"rtu_.*_oadmpr_pct\")\n",
    "oa_damper_position = list(filter(oa_damper_position_re.match, mea_list))\n",
    "\n",
    "oa = oa_flow_rate + oa_damper_position\n",
    "\n",
    "# Zone: temp.\n",
    "zone_temp_exterior_re = re.compile(\"zone_.*_temp\")\n",
    "zone_temp_exterior = list(filter(zone_temp_exterior_re.match, mea_list))\n",
    "\n",
    "zone_temp_interior_re = re.compile(\"cerc_.*\")\n",
    "zone_temp_interior = list(filter(zone_temp_interior_re.match, mea_list))\n",
    "\n",
    "# Zone: temp. setpoint\n",
    "zone_temp_sp_h_re = re.compile(\"zone_.*_heating_sp\")\n",
    "zone_temp_sp_h = list(filter(zone_temp_sp_h_re.match, mea_list))\n",
    "\n",
    "zone_temp_sp_c_re = re.compile(\"zone_.*_cooling_sp\")\n",
    "zone_temp_sp_c = list(filter(zone_temp_sp_c_re.match, mea_list))\n",
    "\n",
    "# RTU: Supply air temp.\n",
    "rtu_sa_t_sp_re = re.compile(\"rtu_.*_sat_sp_tn\")\n",
    "rtu_sa_t_sp = list(filter(rtu_sa_t_sp_re.match, mea_list))\n",
    "\n",
    "rtu_sa_t_re = re.compile(\"rtu_.*_sa_temp\")\n",
    "rtu_sa_t = list(filter(rtu_sa_t_re.match, mea_list))\n",
    "\n",
    "# RTU: Supply air slow rate\n",
    "rtu_sa_p_sp_re = re.compile(\"rtu_.*_pa_static_stpt_tn\")\n",
    "rtu_sa_p_sp = list(filter(rtu_sa_p_sp_re.match, mea_list))\n",
    "\n",
    "rtu_sa_fr_re = re.compile(\"rtu_.*_fltrd_sa_flow_tn\")\n",
    "rtu_sa_fr = list(filter(rtu_sa_fr_re.match, mea_list))\n",
    "\n",
    "# UFT: supply air temp.\n",
    "uft_hw_valve_re = re.compile(\"zone_.*_hw_valve\")\n",
    "uft_hw_valve = list(filter(uft_hw_valve_re.match, mea_list))\n",
    "\n",
    "hp_hws_temp_re = re.compile(\".*_hws_temp\")\n",
    "hp_hws_temp = list(filter(hp_hws_temp_re.match, mea_list))\n",
    "\n",
    "# UFT: supply air flow rate\n",
    "uft_fan_spd_re = re.compile(\"zone_.*_fan_spd\")\n",
    "uft_fan_spd = list(filter(uft_fan_spd_re.match, mea_list))"
   ]
  },
  {
   "cell_type": "code",
   "execution_count": 13,
   "metadata": {},
   "outputs": [],
   "source": [
    "start_time = '2021-08-11'\n",
    "final_time = '2021-08-12'\n",
    "path_to_file = 'data/'"
   ]
  },
  {
   "cell_type": "code",
   "execution_count": 14,
   "metadata": {},
   "outputs": [],
   "source": [
    "# Raw data, not resampled\n",
    "def download_data_raw(data_list,file_name,start_time = start_time,final_time = final_time):\n",
    "    data = pd.DataFrame()\n",
    "    for field in data_list:\n",
    "        data_single = db.get_data(field,dbname,start_time,final_time)\n",
    "        data = pd.concat([data,data_single], axis=1)\n",
    "    data.to_csv('{}/{}_raw.csv'.format(path_to_file ,file_name))"
   ]
  },
  {
   "cell_type": "code",
   "execution_count": 15,
   "metadata": {},
   "outputs": [],
   "source": [
    "# Resampled data\n",
    "def download_data(data_list,file_name,freq='30min',start_time = '2018-01-01',final_time = '2020-01-01'):\n",
    "    data = pd.DataFrame()\n",
    "    for field in data_list:\n",
    "        data_single = db.get_data(field,dbname,start_time,final_time).resample(freq).mean()\n",
    "        data = pd.concat([data,data_single], axis=1)\n",
    "    data.to_csv('data/{}.csv'.format(file_name))"
   ]
  },
  {
   "cell_type": "code",
   "execution_count": 16,
   "metadata": {},
   "outputs": [
    {
     "name": "stderr",
     "output_type": "stream",
     "text": [
      "08/16/2021 08:56:24 PM\tdaq.util.interfacedbINFO\tData for air_temp_set_1 retrieved from database dhblum.\n",
      "08/16/2021 08:56:24 PM\tdaq.util.interfacedbINFO\tData for air_temp_set_2 retrieved from database dhblum.\n",
      "08/16/2021 08:56:24 PM\tdaq.util.interfacedbINFO\tData for dew_point_temperature_set_1d retrieved from database dhblum.\n",
      "08/16/2021 08:56:24 PM\tdaq.util.interfacedbINFO\tData for relative_humidity_set_1 retrieved from database dhblum.\n",
      "08/16/2021 08:56:24 PM\tdaq.util.interfacedbINFO\tData for solar_radiation_set_1 retrieved from database dhblum.\n",
      "08/16/2021 08:56:24 PM\tdaq.util.interfacedbWARNING\tData for occ_third_count not found in database.  Check that the key and time interval are correct and that there is data during the time interval.\n",
      "08/16/2021 08:56:24 PM\tdaq.util.interfacedbWARNING\tData for occ_fourth_count not found in database.  Check that the key and time interval are correct and that there is data during the time interval.\n",
      "08/16/2021 08:56:24 PM\tdaq.util.interfacedbINFO\tData for sub590A14A retrieved from database dhblum.\n",
      "08/16/2021 08:56:24 PM\tdaq.util.interfacedbINFO\tData for sub590A15A retrieved from database dhblum.\n",
      "08/16/2021 08:56:24 PM\tdaq.util.interfacedbWARNING\tData for sub590A1A not found in database.  Check that the key and time interval are correct and that there is data during the time interval.\n",
      "08/16/2021 08:56:24 PM\tdaq.util.interfacedbINFO\tData for sub590A2A retrieved from database dhblum.\n",
      "08/16/2021 08:56:24 PM\tdaq.util.interfacedbINFO\tData for sub596A1A1A retrieved from database dhblum.\n",
      "08/16/2021 08:56:24 PM\tdaq.util.interfacedbINFO\tData for sub596A1A2A retrieved from database dhblum.\n"
     ]
    }
   ],
   "source": [
    "list_data_list = [site_weather, zone_temp_exterior, zone_temp_interior,\n",
    "                  occ, ele,\n",
    "                  zone_temp_sp_h, zone_temp_sp_c,\n",
    "                  rtu_sa_t_sp, rtu_sa_t, oa, economizer, \n",
    "                  rtu_sa_p_sp, rtu_sa_fr,\n",
    "                  uft_hw_valve, hp_hws_temp, uft_fan_spd]\n",
    "list_file_name = ['site_weather', 'zone_temp_exterior', 'zone_temp_interior',\n",
    "                  'occupancy', 'electricity'\n",
    "                  'zone_temp_sp_h', 'zone_temp_sp_c',\n",
    "                  'rtu_sa_t_sp', 'rtu_sa_t', 'outside_air', 'economizer',\n",
    "                  'rtu_sa_p_sp', 'rtu_sa_fr',\n",
    "                  'uft_hw_valve', 'hp_hws_temp', 'uft_fan_spd']\n",
    "\n",
    "for data_list, file_name in zip(list_data_list,list_file_name):\n",
    "    download_data_raw(data_list,file_name,start_time=start_time,final_time=final_time)"
   ]
  },
  {
   "cell_type": "markdown",
   "metadata": {},
   "source": [
    "## Download data from the WiFi database"
   ]
  },
  {
   "cell_type": "code",
   "execution_count": 17,
   "metadata": {},
   "outputs": [],
   "source": [
    "%matplotlib inline"
   ]
  },
  {
   "cell_type": "code",
   "execution_count": 18,
   "metadata": {},
   "outputs": [],
   "source": [
    "db_wifi,dbname_wifi = setup_lbnl(databaseName='wifi')"
   ]
  },
  {
   "cell_type": "code",
   "execution_count": 19,
   "metadata": {},
   "outputs": [],
   "source": [
    "floor = lambda x: int(x.split('-')[2][0])"
   ]
  },
  {
   "cell_type": "code",
   "execution_count": 20,
   "metadata": {},
   "outputs": [
    {
     "name": "stderr",
     "output_type": "stream",
     "text": [
      "08/16/2021 08:56:31 PM\tdaq.util.interfacedbINFO\tData for wifi_count retrieved from database wifi.\n"
     ]
    }
   ],
   "source": [
    "spring_wifi = db_wifi.get_data('wifi_count',dbname_wifi,start_time,final_time)\n",
    "spring_count = spring_wifi[spring_wifi['building'] == '59'].resample('5T').sum()\n",
    "spring_count.index = spring_count.index.tz_convert('America/Los_Angeles')\n",
    "spring_count.columns=['wifi']"
   ]
  },
  {
   "cell_type": "code",
   "execution_count": 21,
   "metadata": {},
   "outputs": [
    {
     "data": {
      "text/plain": [
       "<AxesSubplot:>"
      ]
     },
     "execution_count": 21,
     "metadata": {},
     "output_type": "execute_result"
    },
    {
     "data": {
      "image/png": "[encoded data removed]",
      "text/plain": [
       "<Figure size 432x288 with 1 Axes>"
      ]
     },
     "metadata": {
      "needs_background": "light"
     },
     "output_type": "display_data"
    }
   ],
   "source": [
    "spring_count.plot()"
   ]
  },
  {
   "cell_type": "code",
   "execution_count": null,
   "metadata": {},
   "outputs": [],
   "source": []
  }
 ],
 "metadata": {
  "hide_input": false,
  "kernelspec": {
   "display_name": "influxdb_python3",
   "language": "python",
   "name": "influxdb_python3"
  },
  "language_info": {
   "codemirror_mode": {
    "name": "ipython",
    "version": 3
   },
   "file_extension": ".py",
   "mimetype": "text/x-python",
   "name": "python",
   "nbconvert_exporter": "python",
   "pygments_lexer": "ipython3",
   "version": "3.7.0"
  },
  "toc": {
   "base_numbering": 1,
   "nav_menu": {},
   "number_sections": true,
   "sideBar": true,
   "skip_h1_title": false,
   "title_cell": "Table of Contents",
   "title_sidebar": "Contents",
   "toc_cell": false,
   "toc_position": {},
   "toc_section_display": true,
   "toc_window_display": false
  },
  "varInspector": {
   "cols": {
    "lenName": 16,
    "lenType": 16,
    "lenVar": 40
   },
   "kernels_config": {
    "python": {
     "delete_cmd_postfix": "",
     "delete_cmd_prefix": "del ",
     "library": "var_list.py",
     "varRefreshCmd": "print(var_dic_list())"
    },
    "r": {
     "delete_cmd_postfix": ") ",
     "delete_cmd_prefix": "rm(",
     "library": "var_list.r",
     "varRefreshCmd": "cat(var_dic_list()) "
    }
   },
   "types_to_exclude": [
    "module",
    "function",
    "builtin_function_or_method",
    "instance",
    "_Feature"
   ],
   "window_display": false
  }
 },
 "nbformat": 4,
 "nbformat_minor": 2
}
