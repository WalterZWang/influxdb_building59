{
 "cells": [
  {
   "cell_type": "code",
   "execution_count": 1,
   "metadata": {},
   "outputs": [],
   "source": [
    "import pandas as pd\n",
    "from daq.interfacedb import setup_lbnl\n",
    "\n",
    "import pandas as pd\n",
    "import numpy as np\n",
    "\n",
    "import re "
   ]
  },
  {
   "cell_type": "code",
   "execution_count": 2,
   "metadata": {},
   "outputs": [],
   "source": [
    "db,dbname = setup_lbnl()"
   ]
  },
  {
   "cell_type": "code",
   "execution_count": 3,
   "metadata": {},
   "outputs": [
    {
     "name": "stderr",
     "output_type": "stream",
     "text": [
      "09/04/2021 10:11:44 AM\tdaq.daq.interfacedb INFO\tData for occ_third_count retrieved from database dhblum.\n",
      "09/04/2021 10:11:45 AM\tdaq.daq.interfacedb INFO\tData for occ_fourth_count retrieved from database dhblum.\n"
     ]
    },
    {
     "data": {
      "text/html": [
       "<div>\n",
       "<style scoped>\n",
       "    .dataframe tbody tr th:only-of-type {\n",
       "        vertical-align: middle;\n",
       "    }\n",
       "\n",
       "    .dataframe tbody tr th {\n",
       "        vertical-align: top;\n",
       "    }\n",
       "\n",
       "    .dataframe thead th {\n",
       "        text-align: right;\n",
       "    }\n",
       "</style>\n",
       "<table border=\"1\" class=\"dataframe\">\n",
       "  <thead>\n",
       "    <tr style=\"text-align: right;\">\n",
       "      <th></th>\n",
       "      <th>occ_third_south</th>\n",
       "      <th>occ_fourth_south</th>\n",
       "    </tr>\n",
       "  </thead>\n",
       "  <tbody>\n",
       "    <tr>\n",
       "      <th>2018-06-01 00:00:00+00:00</th>\n",
       "      <td>28</td>\n",
       "      <td>11</td>\n",
       "    </tr>\n",
       "    <tr>\n",
       "      <th>2018-06-01 00:01:00+00:00</th>\n",
       "      <td>29</td>\n",
       "      <td>8</td>\n",
       "    </tr>\n",
       "    <tr>\n",
       "      <th>2018-06-01 00:02:00+00:00</th>\n",
       "      <td>31</td>\n",
       "      <td>9</td>\n",
       "    </tr>\n",
       "    <tr>\n",
       "      <th>2018-06-01 00:03:00+00:00</th>\n",
       "      <td>31</td>\n",
       "      <td>9</td>\n",
       "    </tr>\n",
       "    <tr>\n",
       "      <th>2018-06-01 00:04:00+00:00</th>\n",
       "      <td>31</td>\n",
       "      <td>11</td>\n",
       "    </tr>\n",
       "  </tbody>\n",
       "</table>\n",
       "</div>"
      ],
      "text/plain": [
       "                           occ_third_south  occ_fourth_south\n",
       "2018-06-01 00:00:00+00:00               28                11\n",
       "2018-06-01 00:01:00+00:00               29                 8\n",
       "2018-06-01 00:02:00+00:00               31                 9\n",
       "2018-06-01 00:03:00+00:00               31                 9\n",
       "2018-06-01 00:04:00+00:00               31                11"
      ]
     },
     "execution_count": 3,
     "metadata": {},
     "output_type": "execute_result"
    }
   ],
   "source": [
    "start_time = '2018-06-01'\n",
    "final_time = '2018-07-01'\n",
    "\n",
    "occ = ['occ_third_count','occ_fourth_count']\n",
    "occ_map = {'occ_third_count':'occ_third_south','occ_fourth_count':'occ_fourth_south'}\n",
    "data = pd.DataFrame()\n",
    "for field in occ:\n",
    "    data_single = db.get_data(field,dbname,start_time,final_time)\n",
    "    data = pd.concat([data,data_single], axis=1)\n",
    "data.rename(columns=occ_map,inplace=True)\n",
    "data.head()\n",
    "# data.to_csv('{}/occ.csv'.format(path_to_file))"
   ]
  },
  {
   "cell_type": "code",
   "execution_count": 4,
   "metadata": {},
   "outputs": [
    {
     "name": "stderr",
     "output_type": "stream",
     "text": [
      "09/04/2021 10:11:50 AM\tdaq.daq.interfacedb INFO\tData for sub590A14A retrieved from database dhblum.\n",
      "09/04/2021 10:11:50 AM\tdaq.daq.interfacedb INFO\tData for sub590A15A retrieved from database dhblum.\n",
      "09/04/2021 10:11:50 AM\tdaq.daq.interfacedb WARNING\tData for sub590A1A not found in database.  Check that the key and time interval are correct and that there is data during the time interval.\n",
      "09/04/2021 10:11:50 AM\tdaq.daq.interfacedb INFO\tData for sub590A2A retrieved from database dhblum.\n",
      "09/04/2021 10:11:50 AM\tdaq.daq.interfacedb INFO\tData for sub596A1A1A retrieved from database dhblum.\n",
      "09/04/2021 10:11:51 AM\tdaq.daq.interfacedb INFO\tData for sub596A1A2A retrieved from database dhblum.\n"
     ]
    },
    {
     "data": {
      "text/html": [
       "<div>\n",
       "<style scoped>\n",
       "    .dataframe tbody tr th:only-of-type {\n",
       "        vertical-align: middle;\n",
       "    }\n",
       "\n",
       "    .dataframe tbody tr th {\n",
       "        vertical-align: top;\n",
       "    }\n",
       "\n",
       "    .dataframe thead th {\n",
       "        text-align: right;\n",
       "    }\n",
       "</style>\n",
       "<table border=\"1\" class=\"dataframe\">\n",
       "  <thead>\n",
       "    <tr style=\"text-align: right;\">\n",
       "      <th></th>\n",
       "      <th>mels_S</th>\n",
       "      <th>lig_S</th>\n",
       "      <th>mels_N</th>\n",
       "      <th>hvac_N</th>\n",
       "      <th>hvac_S</th>\n",
       "    </tr>\n",
       "  </thead>\n",
       "  <tbody>\n",
       "    <tr>\n",
       "      <th>2020-12-01 08:00:00+00:00</th>\n",
       "      <td>0.000000</td>\n",
       "      <td>0.0</td>\n",
       "      <td>8.481111</td>\n",
       "      <td>25.617647</td>\n",
       "      <td>20.365789</td>\n",
       "    </tr>\n",
       "    <tr>\n",
       "      <th>2020-12-01 08:15:00+00:00</th>\n",
       "      <td>0.000000</td>\n",
       "      <td>0.0</td>\n",
       "      <td>8.474375</td>\n",
       "      <td>26.465000</td>\n",
       "      <td>19.875789</td>\n",
       "    </tr>\n",
       "    <tr>\n",
       "      <th>2020-12-01 08:30:00+00:00</th>\n",
       "      <td>0.007143</td>\n",
       "      <td>0.0</td>\n",
       "      <td>8.285556</td>\n",
       "      <td>24.815000</td>\n",
       "      <td>19.544500</td>\n",
       "    </tr>\n",
       "    <tr>\n",
       "      <th>2020-12-01 08:45:00+00:00</th>\n",
       "      <td>0.000000</td>\n",
       "      <td>0.0</td>\n",
       "      <td>8.563333</td>\n",
       "      <td>26.217647</td>\n",
       "      <td>21.476667</td>\n",
       "    </tr>\n",
       "    <tr>\n",
       "      <th>2020-12-01 09:00:00+00:00</th>\n",
       "      <td>0.000000</td>\n",
       "      <td>0.0</td>\n",
       "      <td>8.093158</td>\n",
       "      <td>25.830000</td>\n",
       "      <td>19.361579</td>\n",
       "    </tr>\n",
       "  </tbody>\n",
       "</table>\n",
       "</div>"
      ],
      "text/plain": [
       "                             mels_S  lig_S    mels_N     hvac_N     hvac_S\n",
       "2020-12-01 08:00:00+00:00  0.000000    0.0  8.481111  25.617647  20.365789\n",
       "2020-12-01 08:15:00+00:00  0.000000    0.0  8.474375  26.465000  19.875789\n",
       "2020-12-01 08:30:00+00:00  0.007143    0.0  8.285556  24.815000  19.544500\n",
       "2020-12-01 08:45:00+00:00  0.000000    0.0  8.563333  26.217647  21.476667\n",
       "2020-12-01 09:00:00+00:00  0.000000    0.0  8.093158  25.830000  19.361579"
      ]
     },
     "execution_count": 4,
     "metadata": {},
     "output_type": "execute_result"
    }
   ],
   "source": [
    "start_time = '2020-12-01'\n",
    "final_time = '2021-01-01'\n",
    "\n",
    "ele = ['sub590A14A','sub590A15A','sub590A1A','sub590A2A','sub596A1A1A','sub596A1A2A']\n",
    "ele_map = {'sub590A14A':'mels_S','sub590A15A':'lig_S','sub590A1A':'lig_N',\n",
    "           'sub590A2A':'mels_N','sub596A1A1A':'hvac_N','sub596A1A2A':'hvac_S'}\n",
    "data = pd.DataFrame()\n",
    "for field in ele:\n",
    "    data_single = db.get_data(field,dbname,start_time,final_time)\n",
    "    data = pd.concat([data,data_single], axis=1)\n",
    "data.rename(columns=ele_map,inplace=True)\n",
    "data.head()\n",
    "# data.to_csv('{}/ele_raw.csv'.format(path_to_file))"
   ]
  },
  {
   "cell_type": "code",
   "execution_count": null,
   "metadata": {},
   "outputs": [],
   "source": []
  }
 ],
 "metadata": {
  "kernelspec": {
   "display_name": "Python [conda env:cerc_b]",
   "language": "python",
   "name": "conda-env-cerc_b-py"
  },
  "language_info": {
   "codemirror_mode": {
    "name": "ipython",
    "version": 2
   },
   "file_extension": ".py",
   "mimetype": "text/x-python",
   "name": "python",
   "nbconvert_exporter": "python",
   "pygments_lexer": "ipython2",
   "version": "2.7.17"
  }
 },
 "nbformat": 4,
 "nbformat_minor": 4
}
