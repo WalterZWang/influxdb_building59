{
 "cells": [
  {
   "cell_type": "code",
   "execution_count": 1,
   "metadata": {},
   "outputs": [],
   "source": [
    "import pandas as pd\n",
    "from daq.interfacedb import setup_lbnl\n",
    "\n",
    "import re "
   ]
  },
  {
   "cell_type": "code",
   "execution_count": 2,
   "metadata": {},
   "outputs": [],
   "source": [
    "# %load C:\\Users\\Walter\\Desktop\\tools\\template\\plot_template.py\n",
    "\n",
    "import pandas as pd\n",
    "import matplotlib.pyplot as plt\n",
    "import numpy as np\n",
    "# import seaborn as sns\n",
    "\n",
    "plt.rcParams['figure.figsize'] = [10,7]\n",
    "plt.rcParams['axes.labelsize'] = 16\n",
    "plt.rcParams['xtick.labelsize'] = 14\n",
    "plt.rcParams['ytick.labelsize'] = 14\n",
    "plt.rcParams['axes.labelsize'] = 16\n",
    "plt.rcParams['legend.fontsize'] = 16\n",
    "plt.rcParams['savefig.dpi'] = 300\n",
    "plt.rcParams['savefig.bbox'] = 'tight'\n",
    "plt.rcParams['legend.loc'] = 'lower left'\n",
    "%matplotlib inline"
   ]
  },
  {
   "cell_type": "code",
   "execution_count": 3,
   "metadata": {},
   "outputs": [],
   "source": [
    "db,dbname = setup_lbnl()"
   ]
  },
  {
   "cell_type": "code",
   "execution_count": 4,
   "metadata": {},
   "outputs": [
    {
     "name": "stdout",
     "output_type": "stream",
     "text": [
      "[u'1045', u'1065', u'1125', u'12458', u'12541', u'12614', u'12635', u'12743', u'13881', u'145', u'165', u'205', u'245', u'2525', u'2545', u'2565', u'2585', u'2605', u'2625', u'2645', u'265', u'2665', u'2685', u'2705', u'2725', u'2745', u'2865', u'2885', u'2905', u'2925', u'2945', u'2965', u'2985', u'305', u'30934', u'33336', u'33400', u'34222', u'34242', u'345', u'385', u'405', u'425', u'42808', u'445', u'465', u'485', u'505', u'525', u'545', u'565', u'625', u'645', u'665', u'685', u'705', u'725', u'745', u'765', u'785', u'805', u'825', u'845', u'865', u'905', u'925', u'92753', u'945', u'965', u'CAISO_NORTH', u'CAISO_NORTH_historical', u'CAISO_ZP26', u'CAISO_ZP26_historical', u'R2_solar_train', u'R2_solar_train_ds', u'R2_solar_valid', u'R2_solar_valid_ds', u'RMSE_solar_train', u'RMSE_solar_train_ds', u'RMSE_solar_valid', u'RMSE_solar_valid_ds', u'air_temp_set_1', u'air_temp_set_2', u'alc_watchdog_59', u'alc_watchdog_76', u'altimeter_set_1d', u'aru1_hwr_temp', u'aru1_hws_fr_gpm', u'aru1_hws_temp', u'aru_001_cwr_temp', u'aru_001_cws_fr_gpm', u'aru_001_cws_temp', u'aru_001_hwr_temp', u'aru_001_hws_fr_gpm', u'aru_001_hws_temp', u'aru_001_power_mbtuph', u'cerc_templogger_1', u'cerc_templogger_10', u'cerc_templogger_11', u'cerc_templogger_12', u'cerc_templogger_13', u'cerc_templogger_14', u'cerc_templogger_15', u'cerc_templogger_16', u'cerc_templogger_2', u'cerc_templogger_3', u'cerc_templogger_4', u'cerc_templogger_5', u'cerc_templogger_6', u'cerc_templogger_7', u'cerc_templogger_8', u'cerc_templogger_9', u'd_price', u'data0', u'data1', u'data_collect_time', u'date_time', u'dew_point_temperature_set_1d', u'dewpoint', u'dewpoint_ds', u'dewpoint_ds_current', u'e_price', u'ghi', u'ghi_predict', u'ghi_predict_ds', u'group_1_G_C_lig', u'group_2_G_C_lig', u'group_3_G_C_lig', u'group_4_G_C_lig', u'heat_index_set_1d', u'hp_hp_1status_2', u'hp_hwgp1_kw', u'hp_hwgp1_spd_fbk', u'hp_hwgp2_kw', u'hp_hwgp2_spd_fbk', u'hp_hwr_temp', u'hp_hws_temp', u'hp_p1_vfd_output', u'hp_p2_vfd_output', u'humidity', u'humidity_ds', u'humidity_ds_current', u'icon', u'icon_ds', u'icon_ds_current', u'lig_1045', u'lig_1065', u'lig_1125', u'lig_11348', u'lig_12458', u'lig_12541', u'lig_12614', u'lig_12635', u'lig_12743', u'lig_13881', u'lig_145', u'lig_1505', u'lig_1525', u'lig_1545', u'lig_1565', u'lig_1585', u'lig_1605', u'lig_1625', u'lig_1645', u'lig_165', u'lig_1685', u'lig_1725', u'lig_1745', u'lig_1765', u'lig_1785', u'lig_1805', u'lig_1825', u'lig_1845', u'lig_18613', u'lig_1865', u'lig_1885', u'lig_1905', u'lig_19140', u'lig_19207', u'lig_1925', u'lig_1945', u'lig_1965', u'lig_1985', u'lig_2005', u'lig_2025', u'lig_20259', u'lig_2045', u'lig_205', u'lig_2065', u'lig_2085', u'lig_2105', u'lig_2145', u'lig_2185', u'lig_2205', u'lig_2245', u'lig_2265', u'lig_2285', u'lig_2305', u'lig_2325', u'lig_2345', u'lig_2365', u'lig_2385', u'lig_2405', u'lig_2425', u'lig_2445', u'lig_245', u'lig_2465', u'lig_2485', u'lig_2505', u'lig_2525', u'lig_2545', u'lig_2565', u'lig_2585', u'lig_2605', u'lig_2625', u'lig_2645', u'lig_265', u'lig_2665', u'lig_2685', u'lig_2705', u'lig_2725', u'lig_2745', u'lig_2765', u'lig_2785', u'lig_2805', u'lig_2825', u'lig_2845', u'lig_2865', u'lig_2885', u'lig_2905', u'lig_2925', u'lig_2945', u'lig_2965', u'lig_2985', u'lig_3025', u'lig_3045', u'lig_305', u'lig_3065', u'lig_3085', u'lig_30934', u'lig_3105', u'lig_3145', u'lig_3165', u'lig_3185', u'lig_3205', u'lig_3225', u'lig_3245', u'lig_3265', u'lig_33336', u'lig_33400', u'lig_34222', u'lig_34242', u'lig_345', u'lig_385', u'lig_405', u'lig_425', u'lig_42808', u'lig_445', u'lig_465', u'lig_485', u'lig_505', u'lig_525', u'lig_545', u'lig_565', u'lig_625', u'lig_645', u'lig_665', u'lig_685', u'lig_705', u'lig_725', u'lig_745', u'lig_765', u'lig_785', u'lig_805', u'lig_825', u'lig_845', u'lig_85', u'lig_865', u'lig_905', u'lig_925', u'lig_92753', u'lig_945', u'lig_965', u'mslp', u'mslp_ds', u'mslp_ds_current', u'occ_fourth_count', u'occ_fourth_east', u'occ_fourth_eastIns', u'occ_fourth_eastOuts', u'occ_fourth_south', u'occ_fourth_southIns', u'occ_fourth_southOuts', u'occ_fourth_west', u'occ_fourth_westIns', u'occ_fourth_westOuts', u'occ_fourth_zone', u'occ_fourth_zoneIns', u'occ_fourth_zoneOuts', u'occ_third_count', u'occ_third_east', u'occ_third_eastIns', u'occ_third_eastOuts', u'occ_third_south', u'occ_third_southIns', u'occ_third_southOuts', u'occ_third_west', u'occ_third_westIns', u'occ_third_westOuts', u'occ_third_zone', u'occ_third_zoneIns', u'occ_third_zoneOuts', u'optdat_1_G_C_P_Cool', u'optdat_1_G_C_P_Cool_carbon', u'optdat_1_G_C_P_Cool_cost', u'optdat_1_G_C_P_Cool_energy', u'optdat_1_G_C_P_Cool_slack', u'optdat_1_G_C_P_Fan', u'optdat_1_G_C_P_RetFan', u'optdat_1_G_C_P_RetFan_carbon', u'optdat_1_G_C_P_RetFan_cost', u'optdat_1_G_C_P_RetFan_energy', u'optdat_1_G_C_P_RetFan_slack', u'optdat_1_G_C_P_SupFan', u'optdat_1_G_C_P_SupFan_carbon', u'optdat_1_G_C_P_SupFan_cost', u'optdat_1_G_C_P_SupFan_energy', u'optdat_1_G_C_P_SupFan_slack', u'optdat_1_G_C_QInt', u'optdat_1_G_C_QInt_carbon', u'optdat_1_G_C_QInt_cost', u'optdat_1_G_C_QInt_energy', u'optdat_1_G_C_QInt_slack', u'optdat_1_G_C_Q_Cool', u'optdat_1_G_C_Q_Cool_carbon', u'optdat_1_G_C_Q_Cool_cost', u'optdat_1_G_C_Q_Cool_energy', u'optdat_1_G_C_Q_Heat', u'optdat_1_G_C_Q_Heat_carbon', u'optdat_1_G_C_Q_Heat_cost', u'optdat_1_G_C_Q_Heat_energy', u'optdat_1_G_C_Q_Heat_slack', u'optdat_1_G_C_T_zone_ra', u'optdat_1_G_C_T_zone_ra_carbon', u'optdat_1_G_C_T_zone_ra_cost', u'optdat_1_G_C_T_zone_ra_energy', u'optdat_1_G_C_T_zone_ra_slack', u'optdat_1_G_C_T_zone_sa', u'optdat_1_G_C_T_zone_sa_carbon', u'optdat_1_G_C_T_zone_sa_cost', u'optdat_1_G_C_T_zone_sa_energy', u'optdat_1_G_C_T_zone_sa_slack', u'optdat_1_G_C_m_oa', u'optdat_1_G_C_m_oa_carbon', u'optdat_1_G_C_m_oa_cost', u'optdat_1_G_C_m_oa_energy', u'optdat_1_G_C_m_oa_slack', u'optdat_1_G_C_m_ra', u'optdat_1_G_C_m_ra_carbon', u'optdat_1_G_C_m_ra_cost', u'optdat_1_G_C_m_ra_energy', u'optdat_1_G_C_m_sa', u'optdat_1_G_C_m_sa_carbon', u'optdat_1_G_C_m_sa_cost', u'optdat_1_G_C_m_sa_energy', u'optdat_1_G_C_m_sa_slack', u'optdat_1_G_C_uHwv', u'optdat_1_G_C_uHwv_carbon', u'optdat_1_G_C_uHwv_cost', u'optdat_1_G_C_uHwv_energy', u'optdat_1_G_C_uHwv_slack', u'optdat_1_G_C_u_comp', u'optdat_1_G_C_u_comp_carbon', u'optdat_1_G_C_u_comp_cost', u'optdat_1_G_C_u_comp_energy', u'optdat_1_G_C_u_comp_slack', u'optdat_1_G_C_u_fan', u'optdat_1_G_C_u_fan_carbon', u'optdat_1_G_C_u_fan_cost', u'optdat_1_G_C_u_fan_energy', u'optdat_1_G_C_u_fan_slack', u'optdat_1_G_C_weaHGloHor', u'optdat_1_G_C_weaHGloHor_carbon', u'optdat_1_G_C_weaHGloHor_cost', u'optdat_1_G_C_weaHGloHor_energy', u'optdat_1_G_C_weaHGloHor_slack', u'optdat_1_G_C_weaTDryBul', u'optdat_1_G_C_weaTDryBul_carbon', u'optdat_1_G_C_weaTDryBul_cost', u'optdat_1_G_C_weaTDryBul_energy', u'optdat_1_G_C_weaTDryBul_slack', u'optdat_2_G_C_P_Cool', u'optdat_2_G_C_P_Cool_carbon', u'optdat_2_G_C_P_Cool_cost', u'optdat_2_G_C_P_Cool_energy', u'optdat_2_G_C_P_Cool_slack', u'optdat_2_G_C_P_Fan', u'optdat_2_G_C_P_RetFan', u'optdat_2_G_C_P_RetFan_carbon', u'optdat_2_G_C_P_RetFan_cost', u'optdat_2_G_C_P_RetFan_energy', u'optdat_2_G_C_P_RetFan_slack', u'optdat_2_G_C_P_SupFan', u'optdat_2_G_C_P_SupFan_carbon', u'optdat_2_G_C_P_SupFan_cost', u'optdat_2_G_C_P_SupFan_energy', u'optdat_2_G_C_P_SupFan_slack', u'optdat_2_G_C_QInt', u'optdat_2_G_C_QInt_carbon', u'optdat_2_G_C_QInt_cost', u'optdat_2_G_C_QInt_energy', u'optdat_2_G_C_QInt_slack', u'optdat_2_G_C_Q_Cool', u'optdat_2_G_C_Q_Cool_carbon', u'optdat_2_G_C_Q_Cool_cost', u'optdat_2_G_C_Q_Cool_energy', u'optdat_2_G_C_Q_Heat', u'optdat_2_G_C_Q_Heat_carbon', u'optdat_2_G_C_Q_Heat_cost', u'optdat_2_G_C_Q_Heat_energy', u'optdat_2_G_C_Q_Heat_slack', u'optdat_2_G_C_T_zone_ra', u'optdat_2_G_C_T_zone_ra_carbon', u'optdat_2_G_C_T_zone_ra_cost', u'optdat_2_G_C_T_zone_ra_energy', u'optdat_2_G_C_T_zone_ra_slack', u'optdat_2_G_C_T_zone_sa', u'optdat_2_G_C_T_zone_sa_carbon', u'optdat_2_G_C_T_zone_sa_cost', u'optdat_2_G_C_T_zone_sa_energy', u'optdat_2_G_C_T_zone_sa_slack', u'optdat_2_G_C_m_oa', u'optdat_2_G_C_m_oa_carbon', u'optdat_2_G_C_m_oa_cost', u'optdat_2_G_C_m_oa_energy', u'optdat_2_G_C_m_oa_slack', u'optdat_2_G_C_m_ra', u'optdat_2_G_C_m_ra_carbon', u'optdat_2_G_C_m_ra_cost', u'optdat_2_G_C_m_ra_energy', u'optdat_2_G_C_m_sa', u'optdat_2_G_C_m_sa_carbon', u'optdat_2_G_C_m_sa_cost', u'optdat_2_G_C_m_sa_energy', u'optdat_2_G_C_m_sa_slack', u'optdat_2_G_C_uHwv', u'optdat_2_G_C_uHwv_carbon', u'optdat_2_G_C_uHwv_cost', u'optdat_2_G_C_uHwv_energy', u'optdat_2_G_C_uHwv_slack', u'optdat_2_G_C_u_comp', u'optdat_2_G_C_u_comp_carbon', u'optdat_2_G_C_u_comp_cost', u'optdat_2_G_C_u_comp_energy', u'optdat_2_G_C_u_comp_slack', u'optdat_2_G_C_u_fan', u'optdat_2_G_C_u_fan_carbon', u'optdat_2_G_C_u_fan_cost', u'optdat_2_G_C_u_fan_energy', u'optdat_2_G_C_u_fan_slack', u'optdat_2_G_C_weaHGloHor', u'optdat_2_G_C_weaHGloHor_carbon', u'optdat_2_G_C_weaHGloHor_cost', u'optdat_2_G_C_weaHGloHor_energy', u'optdat_2_G_C_weaHGloHor_slack', u'optdat_2_G_C_weaTDryBul', u'optdat_2_G_C_weaTDryBul_carbon', u'optdat_2_G_C_weaTDryBul_cost', u'optdat_2_G_C_weaTDryBul_energy', u'optdat_2_G_C_weaTDryBul_slack', u'optdat_3_G_C_P_Cool', u'optdat_3_G_C_P_Cool_carbon', u'optdat_3_G_C_P_Cool_cost', u'optdat_3_G_C_P_Cool_energy', u'optdat_3_G_C_P_Cool_slack', u'optdat_3_G_C_P_Fan', u'optdat_3_G_C_P_RetFan', u'optdat_3_G_C_P_RetFan_carbon', u'optdat_3_G_C_P_RetFan_cost', u'optdat_3_G_C_P_RetFan_energy', u'optdat_3_G_C_P_RetFan_slack', u'optdat_3_G_C_P_SupFan', u'optdat_3_G_C_P_SupFan_carbon', u'optdat_3_G_C_P_SupFan_cost', u'optdat_3_G_C_P_SupFan_energy', u'optdat_3_G_C_P_SupFan_slack', u'optdat_3_G_C_QInt', u'optdat_3_G_C_QInt_carbon', u'optdat_3_G_C_QInt_cost', u'optdat_3_G_C_QInt_energy', u'optdat_3_G_C_QInt_slack', u'optdat_3_G_C_Q_Cool', u'optdat_3_G_C_Q_Cool_carbon', u'optdat_3_G_C_Q_Cool_cost', u'optdat_3_G_C_Q_Cool_energy', u'optdat_3_G_C_Q_Heat', u'optdat_3_G_C_Q_Heat_carbon', u'optdat_3_G_C_Q_Heat_cost', u'optdat_3_G_C_Q_Heat_energy', u'optdat_3_G_C_Q_Heat_slack', u'optdat_3_G_C_T_zone_ra', u'optdat_3_G_C_T_zone_ra_carbon', u'optdat_3_G_C_T_zone_ra_cost', u'optdat_3_G_C_T_zone_ra_energy', u'optdat_3_G_C_T_zone_ra_slack', u'optdat_3_G_C_T_zone_sa', u'optdat_3_G_C_T_zone_sa_carbon', u'optdat_3_G_C_T_zone_sa_cost', u'optdat_3_G_C_T_zone_sa_energy', u'optdat_3_G_C_T_zone_sa_slack', u'optdat_3_G_C_m_oa', u'optdat_3_G_C_m_oa_carbon', u'optdat_3_G_C_m_oa_cost', u'optdat_3_G_C_m_oa_energy', u'optdat_3_G_C_m_oa_slack', u'optdat_3_G_C_m_ra', u'optdat_3_G_C_m_ra_carbon', u'optdat_3_G_C_m_ra_cost', u'optdat_3_G_C_m_ra_energy', u'optdat_3_G_C_m_sa', u'optdat_3_G_C_m_sa_carbon', u'optdat_3_G_C_m_sa_cost', u'optdat_3_G_C_m_sa_energy', u'optdat_3_G_C_m_sa_slack', u'optdat_3_G_C_uHwv', u'optdat_3_G_C_uHwv_carbon', u'optdat_3_G_C_uHwv_cost', u'optdat_3_G_C_uHwv_energy', u'optdat_3_G_C_uHwv_slack', u'optdat_3_G_C_u_comp', u'optdat_3_G_C_u_comp_carbon', u'optdat_3_G_C_u_comp_cost', u'optdat_3_G_C_u_comp_energy', u'optdat_3_G_C_u_comp_slack', u'optdat_3_G_C_u_fan', u'optdat_3_G_C_u_fan_carbon', u'optdat_3_G_C_u_fan_cost', u'optdat_3_G_C_u_fan_energy', u'optdat_3_G_C_u_fan_slack', u'optdat_3_G_C_weaHGloHor', u'optdat_3_G_C_weaHGloHor_carbon', u'optdat_3_G_C_weaHGloHor_cost', u'optdat_3_G_C_weaHGloHor_energy', u'optdat_3_G_C_weaHGloHor_slack', u'optdat_3_G_C_weaTDryBul', u'optdat_3_G_C_weaTDryBul_carbon', u'optdat_3_G_C_weaTDryBul_cost', u'optdat_3_G_C_weaTDryBul_energy', u'optdat_3_G_C_weaTDryBul_slack', u'optdat_4_G_C_P_Cool', u'optdat_4_G_C_P_Cool_carbon', u'optdat_4_G_C_P_Cool_cost', u'optdat_4_G_C_P_Cool_energy', u'optdat_4_G_C_P_Cool_slack', u'optdat_4_G_C_P_Fan', u'optdat_4_G_C_P_RetFan', u'optdat_4_G_C_P_RetFan_carbon', u'optdat_4_G_C_P_RetFan_cost', u'optdat_4_G_C_P_RetFan_energy', u'optdat_4_G_C_P_RetFan_slack', u'optdat_4_G_C_P_SupFan', u'optdat_4_G_C_P_SupFan_carbon', u'optdat_4_G_C_P_SupFan_cost', u'optdat_4_G_C_P_SupFan_energy', u'optdat_4_G_C_P_SupFan_slack', u'optdat_4_G_C_QInt', u'optdat_4_G_C_QInt_carbon', u'optdat_4_G_C_QInt_cost', u'optdat_4_G_C_QInt_energy', u'optdat_4_G_C_QInt_slack', u'optdat_4_G_C_Q_Cool', u'optdat_4_G_C_Q_Cool_carbon', u'optdat_4_G_C_Q_Cool_cost', u'optdat_4_G_C_Q_Cool_energy', u'optdat_4_G_C_Q_Heat', u'optdat_4_G_C_Q_Heat_carbon', u'optdat_4_G_C_Q_Heat_cost', u'optdat_4_G_C_Q_Heat_energy', u'optdat_4_G_C_Q_Heat_slack', u'optdat_4_G_C_T_zone_ra', u'optdat_4_G_C_T_zone_ra_carbon', u'optdat_4_G_C_T_zone_ra_cost', u'optdat_4_G_C_T_zone_ra_energy', u'optdat_4_G_C_T_zone_ra_slack', u'optdat_4_G_C_T_zone_sa', u'optdat_4_G_C_T_zone_sa_carbon', u'optdat_4_G_C_T_zone_sa_cost', u'optdat_4_G_C_T_zone_sa_energy', u'optdat_4_G_C_T_zone_sa_slack', u'optdat_4_G_C_m_oa', u'optdat_4_G_C_m_oa_carbon', u'optdat_4_G_C_m_oa_cost', u'optdat_4_G_C_m_oa_energy', u'optdat_4_G_C_m_oa_slack', u'optdat_4_G_C_m_ra', u'optdat_4_G_C_m_ra_carbon', u'optdat_4_G_C_m_ra_cost', u'optdat_4_G_C_m_ra_energy', u'optdat_4_G_C_m_sa', u'optdat_4_G_C_m_sa_carbon', u'optdat_4_G_C_m_sa_cost', u'optdat_4_G_C_m_sa_energy', u'optdat_4_G_C_m_sa_slack', u'optdat_4_G_C_uHwv', u'optdat_4_G_C_uHwv_carbon', u'optdat_4_G_C_uHwv_cost', u'optdat_4_G_C_uHwv_energy', u'optdat_4_G_C_uHwv_slack', u'optdat_4_G_C_u_comp', u'optdat_4_G_C_u_comp_carbon', u'optdat_4_G_C_u_comp_cost', u'optdat_4_G_C_u_comp_energy', u'optdat_4_G_C_u_comp_slack', u'optdat_4_G_C_u_fan', u'optdat_4_G_C_u_fan_carbon', u'optdat_4_G_C_u_fan_cost', u'optdat_4_G_C_u_fan_energy', u'optdat_4_G_C_u_fan_slack', u'optdat_4_G_C_weaHGloHor', u'optdat_4_G_C_weaHGloHor_carbon', u'optdat_4_G_C_weaHGloHor_cost', u'optdat_4_G_C_weaHGloHor_energy', u'optdat_4_G_C_weaHGloHor_slack', u'optdat_4_G_C_weaTDryBul', u'optdat_4_G_C_weaTDryBul_carbon', u'optdat_4_G_C_weaTDryBul_cost', u'optdat_4_G_C_weaTDryBul_energy', u'optdat_4_G_C_weaTDryBul_slack', u'optres_1_G_C', u'optres_1_G_C_carbon', u'optres_1_G_C_cost', u'optres_1_G_C_energy', u'optres_1_G_C_slack', u'optres_2_G_C', u'optres_2_G_C_carbon', u'optres_2_G_C_cost', u'optres_2_G_C_energy', u'optres_2_G_C_slack', u'optres_3_G_C', u'optres_3_G_C_carbon', u'optres_3_G_C_cost', u'optres_3_G_C_energy', u'optres_3_G_C_slack', u'optres_4_G_C', u'optres_4_G_C_carbon', u'optres_4_G_C_cost', u'optres_4_G_C_energy', u'optres_4_G_C_slack', u'optset_1_G_C_T_sa', u'optset_1_G_C_T_sa_carbon', u'optset_1_G_C_T_sa_cost', u'optset_1_G_C_T_sa_energy', u'optset_1_G_C_T_sa_slack', u'optset_1_G_C_T_zone', u'optset_1_G_C_T_zone_carbon', u'optset_1_G_C_T_zone_cost', u'optset_1_G_C_T_zone_energy', u'optset_1_G_C_T_zone_slack', u'optset_1_G_C_f_oa', u'optset_1_G_C_f_oa_carbon', u'optset_1_G_C_f_oa_cost', u'optset_1_G_C_f_oa_energy', u'optset_1_G_C_f_oa_slack', u'optset_2_G_C_T_sa', u'optset_2_G_C_T_sa_carbon', u'optset_2_G_C_T_sa_cost', u'optset_2_G_C_T_sa_energy', u'optset_2_G_C_T_sa_slack', u'optset_2_G_C_T_zone', u'optset_2_G_C_T_zone_carbon', u'optset_2_G_C_T_zone_cost', u'optset_2_G_C_T_zone_energy', u'optset_2_G_C_T_zone_slack', u'optset_2_G_C_f_oa', u'optset_2_G_C_f_oa_carbon', u'optset_2_G_C_f_oa_cost', u'optset_2_G_C_f_oa_energy', u'optset_2_G_C_f_oa_slack', u'optset_3_G_C_T_sa', u'optset_3_G_C_T_sa_carbon', u'optset_3_G_C_T_sa_cost', u'optset_3_G_C_T_sa_energy', u'optset_3_G_C_T_sa_slack', u'optset_3_G_C_T_zone', u'optset_3_G_C_T_zone_carbon', u'optset_3_G_C_T_zone_cost', u'optset_3_G_C_T_zone_energy', u'optset_3_G_C_T_zone_slack', u'optset_3_G_C_f_oa', u'optset_3_G_C_f_oa_carbon', u'optset_3_G_C_f_oa_cost', u'optset_3_G_C_f_oa_energy', u'optset_3_G_C_f_oa_slack', u'optset_4_G_C_T_sa', u'optset_4_G_C_T_sa_carbon', u'optset_4_G_C_T_sa_cost', u'optset_4_G_C_T_sa_energy', u'optset_4_G_C_T_sa_slack', u'optset_4_G_C_T_zone', u'optset_4_G_C_T_zone_carbon', u'optset_4_G_C_T_zone_cost', u'optset_4_G_C_T_zone_energy', u'optset_4_G_C_T_zone_slack', u'optset_4_G_C_f_oa', u'optset_4_G_C_f_oa_carbon', u'optset_4_G_C_f_oa_cost', u'optset_4_G_C_f_oa_energy', u'optset_4_G_C_f_oa_slack', u'parameter_estimate', u'parameter_estimate_1_G_C', u'parameter_estimate_1_G_C_R2C2', u'parameter_estimate_1_G_C_R3C3', u'parameter_estimate_1_G_C_fan_return', u'parameter_estimate_1_G_C_fan_supply', u'parameter_estimate_2_G_C', u'parameter_estimate_2_G_C_R2C2', u'parameter_estimate_2_G_C_R3C3', u'parameter_estimate_2_G_C_fan_return', u'parameter_estimate_2_G_C_fan_supply', u'parameter_estimate_3_G_C', u'parameter_estimate_3_G_C_R2C2', u'parameter_estimate_3_G_C_R3C3', u'parameter_estimate_3_G_C_fan_return', u'parameter_estimate_3_G_C_fan_supply', u'parameter_estimate_4_G_C', u'parameter_estimate_4_G_C_R2C2', u'parameter_estimate_4_G_C_R3C3', u'parameter_estimate_4_G_C_fan_return', u'parameter_estimate_4_G_C_fan_supply', u'parameter_estimate_daq_test', u'parameter_estimate_fan_1_G_C', u'parameter_estimate_fan_2_G_C', u'parameter_estimate_fan_3_G_C', u'parameter_estimate_fan_4_G_C', u'parameter_estimate_noglobal_1_G_C', u'parameter_estimate_noglobal_2_G_C', u'parameter_estimate_noglobal_3_G_C', u'parameter_estimate_noglobal_4_G_C', u'plugLoad_pre', u'precip_accum_fifteen_minute_set_1', u'pressure_set_1', u'relative_humidity_set_1', u'rtu_001_bpdmpr_pct', u'rtu_001_comp1_tr', u'rtu_001_comp2_tr', u'rtu_001_cwr_temp', u'rtu_001_cws_temp', u'rtu_001_ead_fbk_tn', u'rtu_001_econ_stpt_tn', u'rtu_001_fltrd_gnd_lvl_plenum_press_tn', u'rtu_001_fltrd_lvl2_plenum_press_tn', u'rtu_001_fltrd_ra_flow_tn', u'rtu_001_fltrd_sa_flow_tn', u'rtu_001_m565', u'rtu_001_ma_temp', u'rtu_001_oa_flow_tn', u'rtu_001_oa_temp', u'rtu_001_oad_fbk', u'rtu_001_oadmpr_pct', u'rtu_001_pa_static_stpt_tn', u'rtu_001_ra_temp', u'rtu_001_rf_vfd_kw_tn', u'rtu_001_rf_vfd_output', u'rtu_001_rf_vfd_spd_fbk_tn', u'rtu_001_sa_temp', u'rtu_001_sat_sp_tn', u'rtu_001_selected_oat_trend', u'rtu_001_sf_vfd_kw_tn', u'rtu_001_sf_vfd_output', u'rtu_001_sf_vfd_spd_fbk_tn', u'rtu_002_bpdmpr_pct', u'rtu_002_comp1_tr', u'rtu_002_comp2_tr', u'rtu_002_cwr_temp', u'rtu_002_cws_temp', u'rtu_002_ead_fbk_tn', u'rtu_002_econ_stpt_tn', u'rtu_002_fltrd_gnd_lvl_plenum_press_tn', u'rtu_002_fltrd_lvl2_plenum_press_tn', u'rtu_002_fltrd_ra_flow_tn', u'rtu_002_fltrd_sa_flow_tn', u'rtu_002_ma_temp', u'rtu_002_oa_flow_tn', u'rtu_002_oa_temp', u'rtu_002_oad_fbk', u'rtu_002_oadmpr_pct', u'rtu_002_pa_static_stpt_tn', u'rtu_002_ra_temp', u'rtu_002_rf_vfd_kw_tn', u'rtu_002_rf_vfd_output', u'rtu_002_rf_vfd_spd_fbk_tn', u'rtu_002_sa_temp', u'rtu_002_sat_sp_tn', u'rtu_002_selected_oat_trend', u'rtu_002_sf_vfd_kw_tn', u'rtu_002_sf_vfd_output', u'rtu_002_sf_vfd_spd_fbk_tn', u'rtu_003_bpdmpr_pct', u'rtu_003_comp1_tr', u'rtu_003_comp2_tr', u'rtu_003_cwr_temp', u'rtu_003_cws_temp', u'rtu_003_ead_fbk_tn', u'rtu_003_econ_stpt_tn', u'rtu_003_fltrd_gnd_lvl_plenum_press_tn', u'rtu_003_fltrd_lvl2_plenum_press_tn', u'rtu_003_fltrd_ra_flow_tn', u'rtu_003_fltrd_sa_flow_tn', u'rtu_003_ma_temp', u'rtu_003_oa_flow_tn', u'rtu_003_oa_temp', u'rtu_003_oad_fbk', u'rtu_003_oadmpr_pct', u'rtu_003_pa_static_stpt_tn', u'rtu_003_ra_temp', u'rtu_003_rf_vfd_kw_tn', u'rtu_003_rf_vfd_output', u'rtu_003_rf_vfd_spd_fbk_tn', u'rtu_003_sa_temp', u'rtu_003_sat_sp_tn', u'rtu_003_selected_oat_trend', u'rtu_003_sf_vfd_kw_tn', u'rtu_003_sf_vfd_output', u'rtu_003_sf_vfd_spd_fbk_tn', u'rtu_004_bpdmpr_pct', u'rtu_004_comp1_tr', u'rtu_004_comp2_tr', u'rtu_004_cwr_temp', u'rtu_004_cws_temp', u'rtu_004_ead_fbk_tn', u'rtu_004_econ_stpt_tn', u'rtu_004_fltrd_gnd_lvl_plenum_press_tn', u'rtu_004_fltrd_lvl2_plenum_press_tn', u'rtu_004_fltrd_ra_flow_tn', u'rtu_004_fltrd_sa_flow_tn', u'rtu_004_m565', u'rtu_004_ma_temp', u'rtu_004_oa_flow_tn', u'rtu_004_oa_temp', u'rtu_004_oad_fbk', u'rtu_004_oadmpr_pct', u'rtu_004_pa_static_stpt_tn', u'rtu_004_ra_temp', u'rtu_004_rf_vfd_kw_tn', u'rtu_004_rf_vfd_output', u'rtu_004_rf_vfd_spd_fbk_tn', u'rtu_004_sa_temp', u'rtu_004_sat_sp_tn', u'rtu_004_selected_oat_trend', u'rtu_004_sf_vfd_kw_tn', u'rtu_004_sf_vfd_output', u'rtu_004_sf_vfd_spd_fbk_tn', u'sea_level_pressure_set_1d', u'sky', u'sky_ds', u'sky_ds_current', u'solar_radiation_set_1', u'state_1_G_C_T_i', u'state_1_G_C_T_i_slack', u'state_1_G_C_T_w', u'state_1_G_C_T_w_carbon', u'state_1_G_C_T_w_cost', u'state_1_G_C_T_w_energy', u'state_1_G_C_T_w_slack', u'state_1_G_C_T_zone', u'state_1_G_C_T_zone_carbon', u'state_1_G_C_T_zone_cost', u'state_1_G_C_T_zone_energy', u'state_1_G_C_T_zone_slack', u'state_2_G_C_T_i', u'state_2_G_C_T_i_slack', u'state_2_G_C_T_w', u'state_2_G_C_T_w_carbon', u'state_2_G_C_T_w_cost', u'state_2_G_C_T_w_energy', u'state_2_G_C_T_w_slack', u'state_2_G_C_T_zone', u'state_2_G_C_T_zone_carbon', u'state_2_G_C_T_zone_cost', u'state_2_G_C_T_zone_energy', u'state_2_G_C_T_zone_slack', u'state_3_G_C_T_i', u'state_3_G_C_T_i_slack', u'state_3_G_C_T_w', u'state_3_G_C_T_w_carbon', u'state_3_G_C_T_w_cost', u'state_3_G_C_T_w_energy', u'state_3_G_C_T_w_slack', u'state_3_G_C_T_zone', u'state_3_G_C_T_zone_carbon', u'state_3_G_C_T_zone_cost', u'state_3_G_C_T_zone_energy', u'state_3_G_C_T_zone_slack', u'state_4_G_C_T_i', u'state_4_G_C_T_i_slack', u'state_4_G_C_T_w', u'state_4_G_C_T_w_carbon', u'state_4_G_C_T_w_cost', u'state_4_G_C_T_w_energy', u'state_4_G_C_T_w_slack', u'state_4_G_C_T_zone', u'state_4_G_C_T_zone_carbon', u'state_4_G_C_T_zone_cost', u'state_4_G_C_T_zone_energy', u'state_4_G_C_T_zone_slack', u'sub590A14A', u'sub590A14A_clean', u'sub590A14A_pre', u'sub590A15A', u'sub590A1A', u'sub590A2A', u'sub590A2A_clean', u'sub590A2A_pre', u'sub596A1A1A', u'sub596A1A2A', u'sub596A1A3A', u'temp', u'temp_ds', u'temp_ds_current', u'testing', u'volt_set_1', u'wdir', u'wdir_ds', u'wdir_ds_current', u'wind_cardinal_direction_set_1d', u'wind_chill_set_1d', u'wind_direction_set_1', u'wind_gust_set_1', u'wind_speed_set_1', u'wspd', u'wspd_ds', u'wspd_ds_current', u'wx', u'wx_ds', u'wx_ds_current', u'zone_016_cooling_sp', u'zone_016_fan_spd', u'zone_016_heating_sp', u'zone_016_hw_valve', u'zone_016_temp', u'zone_017_cooling_sp', u'zone_017_fan_spd', u'zone_017_heating_sp', u'zone_017_hw_valve', u'zone_017_temp', u'zone_018_cooling_sp', u'zone_018_fan_spd', u'zone_018_heating_sp', u'zone_018_hw_valve', u'zone_018_temp', u'zone_019_cooling_sp', u'zone_019_fan_spd', u'zone_019_heating_sp', u'zone_019_temp', u'zone_021_cooling_sp', u'zone_021_fan_spd', u'zone_021_heating_sp', u'zone_021_hw_valve', u'zone_021_temp', u'zone_022_co2', u'zone_022_cooling_sp', u'zone_022_fan_spd', u'zone_022_heating_sp', u'zone_022_hw_valve', u'zone_022_temp', u'zone_023_cooling_sp', u'zone_023_fan_spd', u'zone_023_heating_sp', u'zone_023_hw_valve', u'zone_023_temp', u'zone_024_cooling_sp', u'zone_024_fan_spd', u'zone_024_heating_sp', u'zone_024_hw_valve', u'zone_024_temp', u'zone_025_cooling_sp', u'zone_025_fan_spd', u'zone_025_heating_sp', u'zone_025_hw_valve', u'zone_025_temp', u'zone_026_cooling_sp', u'zone_026_fan_spd', u'zone_026_heating_sp', u'zone_026_hw_valve', u'zone_026_temp', u'zone_027_cooling_sp', u'zone_027_fan_spd', u'zone_027_heating_sp', u'zone_027_hw_valve', u'zone_027_temp', u'zone_028_co2', u'zone_028_cooling_sp', u'zone_028_fan_spd', u'zone_028_heating_sp', u'zone_028_hw_valve', u'zone_028_temp', u'zone_030_cooling_sp', u'zone_030_fan_spd', u'zone_030_heating_sp', u'zone_030_temp', u'zone_032_cooling_sp', u'zone_032_fan_spd', u'zone_032_heating_sp', u'zone_032_temp', u'zone_033_co2', u'zone_033_cooling_sp', u'zone_033_fan_spd', u'zone_033_heating_sp', u'zone_033_temp', u'zone_035_cooling_sp', u'zone_035_fan_spd', u'zone_035_heating_sp', u'zone_035_hw_valve', u'zone_035_temp', u'zone_036_cooling_sp', u'zone_036_fan_spd', u'zone_036_heating_sp', u'zone_036_hw_valve', u'zone_036_temp', u'zone_037_cooling_sp', u'zone_037_fan_spd', u'zone_037_heating_sp', u'zone_037_hw_valve', u'zone_037_temp', u'zone_038_cooling_sp', u'zone_038_fan_spd', u'zone_038_heating_sp', u'zone_038_hw_valve', u'zone_038_temp', u'zone_039_cooling_sp', u'zone_039_fan_spd', u'zone_039_heating_sp', u'zone_039_hw_valve', u'zone_039_temp', u'zone_040_co2', u'zone_040_cooling_sp', u'zone_040_fan_spd', u'zone_040_heating_sp', u'zone_040_hw_valve', u'zone_040_temp', u'zone_041_cooling_sp', u'zone_041_fan_spd', u'zone_041_heating_sp', u'zone_041_hw_valve', u'zone_041_temp', u'zone_042_cooling_sp', u'zone_042_fan_spd', u'zone_042_heating_sp', u'zone_042_hw_valve', u'zone_042_temp', u'zone_043_cooling_sp', u'zone_043_fan_spd', u'zone_043_heating_sp', u'zone_043_hw_valve', u'zone_043_temp', u'zone_044_co2', u'zone_044_cooling_sp', u'zone_044_fan_spd', u'zone_044_heating_sp', u'zone_044_hw_valve', u'zone_044_temp', u'zone_045_co2', u'zone_045_cooling_sp', u'zone_045_fan_spd', u'zone_045_heating_sp', u'zone_045_hw_valve', u'zone_045_temp', u'zone_046_cooling_sp', u'zone_046_fan_spd', u'zone_046_heating_sp', u'zone_046_hw_valve', u'zone_046_temp', u'zone_047_cooling_sp', u'zone_047_fan_spd', u'zone_047_heating_sp', u'zone_047_hw_valve', u'zone_047_temp', u'zone_048_cooling_sp', u'zone_048_fan_spd', u'zone_048_heating_sp', u'zone_048_hw_valve', u'zone_048_temp', u'zone_049_cooling_sp', u'zone_049_fan_spd', u'zone_049_heating_sp', u'zone_049_temp', u'zone_051_cooling_sp', u'zone_051_fan_spd', u'zone_051_heating_sp', u'zone_051_hw_valve', u'zone_051_temp', u'zone_052_co2', u'zone_052_cooling_sp', u'zone_052_fan_spd', u'zone_052_heating_sp', u'zone_052_hw_valve', u'zone_052_temp', u'zone_053_cooling_sp', u'zone_053_fan_spd', u'zone_053_heating_sp', u'zone_053_hw_valve', u'zone_053_temp', u'zone_054_cooling_sp', u'zone_054_fan_spd', u'zone_054_heating_sp', u'zone_054_hw_valve', u'zone_054_temp', u'zone_055_cooling_sp', u'zone_055_fan_spd', u'zone_055_heating_sp', u'zone_055_hw_valve', u'zone_055_temp', u'zone_056_cooling_sp', u'zone_056_fan_spd', u'zone_056_heating_sp', u'zone_056_hw_valve', u'zone_056_temp', u'zone_057_cooling_sp', u'zone_057_fan_spd', u'zone_057_heating_sp', u'zone_057_hw_valve', u'zone_057_temp', u'zone_058_co2', u'zone_058_cooling_sp', u'zone_058_fan_spd', u'zone_058_heating_sp', u'zone_058_hw_valve', u'zone_058_temp', u'zone_059_cooling_sp', u'zone_059_fan_spd', u'zone_059_heating_sp', u'zone_059_temp', u'zone_061_cooling_sp', u'zone_061_fan_spd', u'zone_061_heating_sp', u'zone_061_hw_valve', u'zone_061_temp', u'zone_062_co2', u'zone_062_cooling_sp', u'zone_062_fan_spd', u'zone_062_heating_sp', u'zone_062_temp', u'zone_063_cooling_sp', u'zone_063_fan_spd', u'zone_063_heating_sp', u'zone_063_hw_valve', u'zone_063_temp', u'zone_064_cooling_sp', u'zone_064_fan_spd', u'zone_064_heating_sp', u'zone_064_hw_valve', u'zone_064_temp', u'zone_065_cooling_sp', u'zone_065_fan_spd', u'zone_065_heating_sp', u'zone_065_hw_valve', u'zone_065_temp', u'zone_066_cooling_sp', u'zone_066_fan_spd', u'zone_066_heating_sp', u'zone_066_hw_valve', u'zone_066_temp', u'zone_067_cooling_sp', u'zone_067_fan_spd', u'zone_067_heating_sp', u'zone_067_hw_valve', u'zone_067_temp', u'zone_068_co2', u'zone_068_cooling_sp', u'zone_068_fan_spd', u'zone_068_heating_sp', u'zone_068_hw_valve', u'zone_068_temp', u'zone_069_cooling_sp', u'zone_069_fan_spd', u'zone_069_heating_sp', u'zone_069_hw_valve', u'zone_069_temp', u'zone_070_cooling_sp', u'zone_070_fan_spd', u'zone_070_heating_sp', u'zone_070_hw_valve', u'zone_070_temp', u'zone_071_cooling_sp', u'zone_071_fan_spd', u'zone_071_heating_sp', u'zone_071_hw_valve', u'zone_071_temp', u'zone_072_co2', u'zone_072_cooling_sp', u'zone_072_fan_spd', u'zone_072_heating_sp', u'zone_072_hw_valve', u'zone_072_temp']\n"
     ]
    }
   ],
   "source": [
    "mea_list = db.get_measurements_list(dbname)\n",
    "\n",
    "print(mea_list)"
   ]
  },
  {
   "cell_type": "code",
   "execution_count": 5,
   "metadata": {},
   "outputs": [],
   "source": [
    "start_time = '2018-01-01'\n",
    "final_time = '2021-01-01'"
   ]
  },
  {
   "cell_type": "markdown",
   "metadata": {},
   "source": [
    "## Version 1"
   ]
  },
  {
   "cell_type": "code",
   "execution_count": 10,
   "metadata": {},
   "outputs": [],
   "source": [
    "# Site weather\n",
    "site_weather = ['air_temp_set_'+str(i) for i in range(1,3)] + \\\n",
    "               ['dew_point_temperature_set_1d','relative_humidity_set_1'] + \\\n",
    "               ['solar_radiation_set_1']"
   ]
  },
  {
   "cell_type": "code",
   "execution_count": 17,
   "metadata": {},
   "outputs": [],
   "source": []
  },
  {
   "cell_type": "code",
   "execution_count": 7,
   "metadata": {},
   "outputs": [],
   "source": [
    "# Outside Air\n",
    "oa_flow_rate_re = re.compile(\"rtu_.*_oa_flow_tn\")\n",
    "oa_flow_rate = list(filter(oa_flow_rate_re.match, mea_list))\n",
    "\n",
    "oa_damper_position_re = re.compile(\"rtu_.*_oadmpr_pct\")\n",
    "oa_damper_position = list(filter(oa_damper_position_re.match, mea_list))\n",
    "\n",
    "oa = oa_flow_rate + oa_damper_position"
   ]
  },
  {
   "cell_type": "code",
   "execution_count": 11,
   "metadata": {},
   "outputs": [],
   "source": [
    "# Zone: temp.\n",
    "zone_temp_exterior_re = re.compile(\"zone_.*_temp\")\n",
    "zone_temp_exterior = list(filter(zone_temp_exterior_re.match, mea_list))\n",
    "\n",
    "zone_temp_interior_re = re.compile(\"cerc_.*\")\n",
    "zone_temp_interior = list(filter(zone_temp_interior_re.match, mea_list))"
   ]
  },
  {
   "cell_type": "code",
   "execution_count": 12,
   "metadata": {},
   "outputs": [],
   "source": [
    "# Zone: temp. setpoint\n",
    "zone_temp_sp_h_re = re.compile(\"zone_.*_heating_sp\")\n",
    "zone_temp_sp_h = list(filter(zone_temp_sp_h_re.match, mea_list))\n",
    "\n",
    "zone_temp_sp_c_re = re.compile(\"zone_.*_cooling_sp\")\n",
    "zone_temp_sp_c = list(filter(zone_temp_sp_c_re.match, mea_list))"
   ]
  },
  {
   "cell_type": "code",
   "execution_count": 13,
   "metadata": {},
   "outputs": [],
   "source": [
    "# RTU: Supply air temp.\n",
    "rtu_sa_t_sp_re = re.compile(\"rtu_.*_sat_sp_tn\")\n",
    "rtu_sa_t_sp = list(filter(rtu_sa_t_sp_re.match, mea_list))\n",
    "\n",
    "rtu_sa_t_re = re.compile(\"rtu_.*_sa_temp\")\n",
    "rtu_sa_t = list(filter(rtu_sa_t_re.match, mea_list))"
   ]
  },
  {
   "cell_type": "code",
   "execution_count": 14,
   "metadata": {},
   "outputs": [],
   "source": [
    "# RTU: Supply air slow rate\n",
    "rtu_sa_p_sp_re = re.compile(\"rtu_.*_pa_static_stpt_tn\")\n",
    "rtu_sa_p_sp = list(filter(rtu_sa_p_sp_re.match, mea_list))\n",
    "\n",
    "rtu_sa_fr_re = re.compile(\"rtu_.*_fltrd_sa_flow_tn\")\n",
    "rtu_sa_fr = list(filter(rtu_sa_fr_re.match, mea_list))"
   ]
  },
  {
   "cell_type": "code",
   "execution_count": 15,
   "metadata": {},
   "outputs": [],
   "source": [
    "# UFT: supply air temp.\n",
    "uft_hw_valve_re = re.compile(\"zone_.*_hw_valve\")\n",
    "uft_hw_valve = list(filter(uft_hw_valve_re.match, mea_list))\n",
    "\n",
    "hp_hws_temp_re = re.compile(\".*_hws_temp\")\n",
    "hp_hws_temp = list(filter(hp_hws_temp_re.match, mea_list))"
   ]
  },
  {
   "cell_type": "code",
   "execution_count": 16,
   "metadata": {},
   "outputs": [],
   "source": [
    "# UFT: supply air flow rate\n",
    "uft_fan_spd_re = re.compile(\"zone_.*_fan_spd\")\n",
    "uft_fan_spd = list(filter(uft_fan_spd_re.match, mea_list))"
   ]
  },
  {
   "cell_type": "code",
   "execution_count": 26,
   "metadata": {},
   "outputs": [],
   "source": [
    "start_time = '2018-01-01'\n",
    "final_time = '2021-01-01'\n",
    "path_to_file = 'data/na/2020'"
   ]
  },
  {
   "cell_type": "code",
   "execution_count": null,
   "metadata": {},
   "outputs": [],
   "source": [
    "def download_data(data_list,file_name,freq='30min',start_time = '2018-01-01',final_time = '2020-01-01'):\n",
    "    data = pd.DataFrame()\n",
    "    for field in data_list:\n",
    "        data_single = db.get_data(field,dbname,start_time,final_time).resample(freq).mean()\n",
    "        data = pd.concat([data,data_single], axis=1)\n",
    "    data.to_csv('data/{}.csv'.format(file_name))"
   ]
  },
  {
   "cell_type": "code",
   "execution_count": 28,
   "metadata": {},
   "outputs": [],
   "source": [
    "def download_data_raw(data_list,file_name,path_to_file,start_time = start_time,final_time = final_time):\n",
    "    data = pd.DataFrame()\n",
    "    for field in data_list:\n",
    "        data_single = db.get_data(field,dbname,start_time,final_time)\n",
    "        data = pd.concat([data,data_single], axis=1)\n",
    "    data.to_csv('{}/{}_raw.csv'.format(path_to_file ,file_name))"
   ]
  },
  {
   "cell_type": "code",
   "execution_count": 20,
   "metadata": {},
   "outputs": [],
   "source": [
    "path_to_file = 'data/na/more_rtu_data_18to20'"
   ]
  },
  {
   "cell_type": "code",
   "execution_count": 20,
   "metadata": {},
   "outputs": [
    {
     "name": "stderr",
     "output_type": "stream",
     "text": [
      "04/22/2021 04:28:58 PM\tdaq.daq.interfacedb INFO\tData for air_temp_set_1 retrieved from database dhblum.\n",
      "04/22/2021 04:28:58 PM\tdaq.daq.interfacedb INFO\tData for air_temp_set_2 retrieved from database dhblum.\n",
      "04/22/2021 04:28:59 PM\tdaq.daq.interfacedb INFO\tData for dew_point_temperature_set_1d retrieved from database dhblum.\n",
      "04/22/2021 04:29:00 PM\tdaq.daq.interfacedb INFO\tData for relative_humidity_set_1 retrieved from database dhblum.\n",
      "04/22/2021 04:29:01 PM\tdaq.daq.interfacedb INFO\tData for solar_radiation_set_1 retrieved from database dhblum.\n",
      "04/22/2021 04:29:07 PM\tdaq.daq.interfacedb INFO\tData for zone_016_temp retrieved from database dhblum.\n",
      "04/22/2021 04:29:11 PM\tdaq.daq.interfacedb INFO\tData for zone_017_temp retrieved from database dhblum.\n",
      "04/22/2021 04:29:16 PM\tdaq.daq.interfacedb INFO\tData for zone_018_temp retrieved from database dhblum.\n",
      "04/22/2021 04:29:21 PM\tdaq.daq.interfacedb INFO\tData for zone_019_temp retrieved from database dhblum.\n",
      "04/22/2021 04:29:26 PM\tdaq.daq.interfacedb INFO\tData for zone_021_temp retrieved from database dhblum.\n",
      "04/22/2021 04:29:30 PM\tdaq.daq.interfacedb INFO\tData for zone_022_temp retrieved from database dhblum.\n",
      "04/22/2021 04:29:35 PM\tdaq.daq.interfacedb INFO\tData for zone_023_temp retrieved from database dhblum.\n",
      "04/22/2021 04:29:40 PM\tdaq.daq.interfacedb INFO\tData for zone_024_temp retrieved from database dhblum.\n",
      "04/22/2021 04:29:45 PM\tdaq.daq.interfacedb INFO\tData for zone_025_temp retrieved from database dhblum.\n",
      "04/22/2021 04:29:50 PM\tdaq.daq.interfacedb INFO\tData for zone_026_temp retrieved from database dhblum.\n",
      "04/22/2021 04:29:55 PM\tdaq.daq.interfacedb INFO\tData for zone_027_temp retrieved from database dhblum.\n",
      "04/22/2021 04:30:00 PM\tdaq.daq.interfacedb INFO\tData for zone_028_temp retrieved from database dhblum.\n",
      "04/22/2021 04:30:05 PM\tdaq.daq.interfacedb INFO\tData for zone_030_temp retrieved from database dhblum.\n",
      "04/22/2021 04:30:10 PM\tdaq.daq.interfacedb INFO\tData for zone_032_temp retrieved from database dhblum.\n",
      "04/22/2021 04:30:15 PM\tdaq.daq.interfacedb INFO\tData for zone_033_temp retrieved from database dhblum.\n",
      "04/22/2021 04:30:19 PM\tdaq.daq.interfacedb INFO\tData for zone_035_temp retrieved from database dhblum.\n",
      "04/22/2021 04:30:23 PM\tdaq.daq.interfacedb INFO\tData for zone_036_temp retrieved from database dhblum.\n",
      "04/22/2021 04:30:28 PM\tdaq.daq.interfacedb INFO\tData for zone_037_temp retrieved from database dhblum.\n",
      "04/22/2021 04:30:32 PM\tdaq.daq.interfacedb INFO\tData for zone_038_temp retrieved from database dhblum.\n",
      "04/22/2021 04:30:37 PM\tdaq.daq.interfacedb INFO\tData for zone_039_temp retrieved from database dhblum.\n",
      "04/22/2021 04:30:42 PM\tdaq.daq.interfacedb INFO\tData for zone_040_temp retrieved from database dhblum.\n",
      "04/22/2021 04:30:47 PM\tdaq.daq.interfacedb INFO\tData for zone_041_temp retrieved from database dhblum.\n",
      "04/22/2021 04:30:52 PM\tdaq.daq.interfacedb INFO\tData for zone_042_temp retrieved from database dhblum.\n",
      "04/22/2021 04:30:56 PM\tdaq.daq.interfacedb INFO\tData for zone_043_temp retrieved from database dhblum.\n",
      "04/22/2021 04:31:01 PM\tdaq.daq.interfacedb INFO\tData for zone_044_temp retrieved from database dhblum.\n",
      "04/22/2021 04:31:05 PM\tdaq.daq.interfacedb INFO\tData for zone_045_temp retrieved from database dhblum.\n",
      "04/22/2021 04:31:10 PM\tdaq.daq.interfacedb INFO\tData for zone_046_temp retrieved from database dhblum.\n",
      "04/22/2021 04:31:14 PM\tdaq.daq.interfacedb INFO\tData for zone_047_temp retrieved from database dhblum.\n",
      "04/22/2021 04:31:15 PM\tdaq.daq.interfacedb INFO\tData for zone_048_temp retrieved from database dhblum.\n",
      "04/22/2021 04:31:20 PM\tdaq.daq.interfacedb INFO\tData for zone_049_temp retrieved from database dhblum.\n",
      "04/22/2021 04:31:24 PM\tdaq.daq.interfacedb INFO\tData for zone_051_temp retrieved from database dhblum.\n",
      "04/22/2021 04:31:29 PM\tdaq.daq.interfacedb INFO\tData for zone_052_temp retrieved from database dhblum.\n",
      "04/22/2021 04:31:33 PM\tdaq.daq.interfacedb INFO\tData for zone_053_temp retrieved from database dhblum.\n",
      "04/22/2021 04:31:38 PM\tdaq.daq.interfacedb INFO\tData for zone_054_temp retrieved from database dhblum.\n",
      "04/22/2021 04:31:43 PM\tdaq.daq.interfacedb INFO\tData for zone_055_temp retrieved from database dhblum.\n",
      "04/22/2021 04:31:47 PM\tdaq.daq.interfacedb INFO\tData for zone_056_temp retrieved from database dhblum.\n",
      "04/22/2021 04:31:52 PM\tdaq.daq.interfacedb INFO\tData for zone_057_temp retrieved from database dhblum.\n",
      "04/22/2021 04:31:57 PM\tdaq.daq.interfacedb INFO\tData for zone_058_temp retrieved from database dhblum.\n",
      "04/22/2021 04:32:01 PM\tdaq.daq.interfacedb INFO\tData for zone_059_temp retrieved from database dhblum.\n",
      "04/22/2021 04:32:06 PM\tdaq.daq.interfacedb INFO\tData for zone_061_temp retrieved from database dhblum.\n",
      "04/22/2021 04:32:10 PM\tdaq.daq.interfacedb INFO\tData for zone_062_temp retrieved from database dhblum.\n",
      "04/22/2021 04:32:15 PM\tdaq.daq.interfacedb INFO\tData for zone_063_temp retrieved from database dhblum.\n",
      "04/22/2021 04:32:19 PM\tdaq.daq.interfacedb INFO\tData for zone_064_temp retrieved from database dhblum.\n",
      "04/22/2021 04:32:24 PM\tdaq.daq.interfacedb INFO\tData for zone_065_temp retrieved from database dhblum.\n",
      "04/22/2021 04:32:29 PM\tdaq.daq.interfacedb INFO\tData for zone_066_temp retrieved from database dhblum.\n",
      "04/22/2021 04:32:33 PM\tdaq.daq.interfacedb INFO\tData for zone_067_temp retrieved from database dhblum.\n",
      "04/22/2021 04:32:38 PM\tdaq.daq.interfacedb INFO\tData for zone_068_temp retrieved from database dhblum.\n",
      "04/22/2021 04:32:43 PM\tdaq.daq.interfacedb INFO\tData for zone_069_temp retrieved from database dhblum.\n",
      "04/22/2021 04:32:47 PM\tdaq.daq.interfacedb INFO\tData for zone_070_temp retrieved from database dhblum.\n",
      "04/22/2021 04:32:52 PM\tdaq.daq.interfacedb INFO\tData for zone_071_temp retrieved from database dhblum.\n",
      "04/22/2021 04:32:58 PM\tdaq.daq.interfacedb INFO\tData for zone_072_temp retrieved from database dhblum.\n",
      "04/22/2021 04:33:14 PM\tdaq.daq.interfacedb INFO\tData for cerc_templogger_1 retrieved from database dhblum.\n",
      "04/22/2021 04:33:15 PM\tdaq.daq.interfacedb INFO\tData for cerc_templogger_10 retrieved from database dhblum.\n",
      "04/22/2021 04:33:15 PM\tdaq.daq.interfacedb INFO\tData for cerc_templogger_11 retrieved from database dhblum.\n",
      "04/22/2021 04:33:16 PM\tdaq.daq.interfacedb INFO\tData for cerc_templogger_12 retrieved from database dhblum.\n",
      "04/22/2021 04:33:16 PM\tdaq.daq.interfacedb INFO\tData for cerc_templogger_13 retrieved from database dhblum.\n",
      "04/22/2021 04:33:17 PM\tdaq.daq.interfacedb INFO\tData for cerc_templogger_14 retrieved from database dhblum.\n",
      "04/22/2021 04:33:17 PM\tdaq.daq.interfacedb INFO\tData for cerc_templogger_15 retrieved from database dhblum.\n",
      "04/22/2021 04:33:18 PM\tdaq.daq.interfacedb INFO\tData for cerc_templogger_16 retrieved from database dhblum.\n",
      "04/22/2021 04:33:18 PM\tdaq.daq.interfacedb INFO\tData for cerc_templogger_2 retrieved from database dhblum.\n",
      "04/22/2021 04:33:19 PM\tdaq.daq.interfacedb INFO\tData for cerc_templogger_3 retrieved from database dhblum.\n",
      "04/22/2021 04:33:19 PM\tdaq.daq.interfacedb INFO\tData for cerc_templogger_4 retrieved from database dhblum.\n",
      "04/22/2021 04:33:20 PM\tdaq.daq.interfacedb INFO\tData for cerc_templogger_5 retrieved from database dhblum.\n",
      "04/22/2021 04:33:20 PM\tdaq.daq.interfacedb INFO\tData for cerc_templogger_6 retrieved from database dhblum.\n",
      "04/22/2021 04:33:21 PM\tdaq.daq.interfacedb INFO\tData for cerc_templogger_7 retrieved from database dhblum.\n",
      "04/22/2021 04:33:21 PM\tdaq.daq.interfacedb INFO\tData for cerc_templogger_8 retrieved from database dhblum.\n",
      "04/22/2021 04:33:22 PM\tdaq.daq.interfacedb INFO\tData for cerc_templogger_9 retrieved from database dhblum.\n",
      "04/22/2021 04:33:23 PM\tdaq.daq.interfacedb INFO\tData for zone_016_heating_sp retrieved from database dhblum.\n",
      "04/22/2021 04:33:24 PM\tdaq.daq.interfacedb INFO\tData for zone_017_heating_sp retrieved from database dhblum.\n",
      "04/22/2021 04:33:25 PM\tdaq.daq.interfacedb INFO\tData for zone_018_heating_sp retrieved from database dhblum.\n",
      "04/22/2021 04:33:26 PM\tdaq.daq.interfacedb INFO\tData for zone_019_heating_sp retrieved from database dhblum.\n",
      "04/22/2021 04:33:27 PM\tdaq.daq.interfacedb INFO\tData for zone_021_heating_sp retrieved from database dhblum.\n",
      "04/22/2021 04:33:29 PM\tdaq.daq.interfacedb INFO\tData for zone_022_heating_sp retrieved from database dhblum.\n",
      "04/22/2021 04:33:30 PM\tdaq.daq.interfacedb INFO\tData for zone_023_heating_sp retrieved from database dhblum.\n"
     ]
    },
    {
     "name": "stderr",
     "output_type": "stream",
     "text": [
      "04/22/2021 04:33:31 PM\tdaq.daq.interfacedb INFO\tData for zone_024_heating_sp retrieved from database dhblum.\n",
      "04/22/2021 04:33:32 PM\tdaq.daq.interfacedb INFO\tData for zone_025_heating_sp retrieved from database dhblum.\n",
      "04/22/2021 04:33:33 PM\tdaq.daq.interfacedb INFO\tData for zone_026_heating_sp retrieved from database dhblum.\n",
      "04/22/2021 04:33:34 PM\tdaq.daq.interfacedb INFO\tData for zone_027_heating_sp retrieved from database dhblum.\n",
      "04/22/2021 04:33:38 PM\tdaq.daq.interfacedb INFO\tData for zone_028_heating_sp retrieved from database dhblum.\n",
      "04/22/2021 04:33:39 PM\tdaq.daq.interfacedb INFO\tData for zone_030_heating_sp retrieved from database dhblum.\n",
      "04/22/2021 04:33:40 PM\tdaq.daq.interfacedb INFO\tData for zone_032_heating_sp retrieved from database dhblum.\n",
      "04/22/2021 04:33:44 PM\tdaq.daq.interfacedb INFO\tData for zone_033_heating_sp retrieved from database dhblum.\n",
      "04/22/2021 04:33:45 PM\tdaq.daq.interfacedb INFO\tData for zone_035_heating_sp retrieved from database dhblum.\n",
      "04/22/2021 04:33:46 PM\tdaq.daq.interfacedb INFO\tData for zone_036_heating_sp retrieved from database dhblum.\n",
      "04/22/2021 04:33:47 PM\tdaq.daq.interfacedb INFO\tData for zone_037_heating_sp retrieved from database dhblum.\n",
      "04/22/2021 04:33:48 PM\tdaq.daq.interfacedb INFO\tData for zone_038_heating_sp retrieved from database dhblum.\n",
      "04/22/2021 04:33:49 PM\tdaq.daq.interfacedb INFO\tData for zone_039_heating_sp retrieved from database dhblum.\n",
      "04/22/2021 04:33:53 PM\tdaq.daq.interfacedb INFO\tData for zone_040_heating_sp retrieved from database dhblum.\n",
      "04/22/2021 04:33:54 PM\tdaq.daq.interfacedb INFO\tData for zone_041_heating_sp retrieved from database dhblum.\n",
      "04/22/2021 04:33:55 PM\tdaq.daq.interfacedb INFO\tData for zone_042_heating_sp retrieved from database dhblum.\n",
      "04/22/2021 04:33:56 PM\tdaq.daq.interfacedb INFO\tData for zone_043_heating_sp retrieved from database dhblum.\n",
      "04/22/2021 04:34:00 PM\tdaq.daq.interfacedb INFO\tData for zone_044_heating_sp retrieved from database dhblum.\n",
      "04/22/2021 04:34:04 PM\tdaq.daq.interfacedb INFO\tData for zone_045_heating_sp retrieved from database dhblum.\n",
      "04/22/2021 04:34:05 PM\tdaq.daq.interfacedb INFO\tData for zone_046_heating_sp retrieved from database dhblum.\n",
      "04/22/2021 04:34:06 PM\tdaq.daq.interfacedb INFO\tData for zone_047_heating_sp retrieved from database dhblum.\n",
      "04/22/2021 04:34:07 PM\tdaq.daq.interfacedb INFO\tData for zone_048_heating_sp retrieved from database dhblum.\n",
      "04/22/2021 04:34:09 PM\tdaq.daq.interfacedb INFO\tData for zone_049_heating_sp retrieved from database dhblum.\n",
      "04/22/2021 04:34:10 PM\tdaq.daq.interfacedb INFO\tData for zone_051_heating_sp retrieved from database dhblum.\n",
      "04/22/2021 04:34:14 PM\tdaq.daq.interfacedb INFO\tData for zone_052_heating_sp retrieved from database dhblum.\n",
      "04/22/2021 04:34:15 PM\tdaq.daq.interfacedb INFO\tData for zone_053_heating_sp retrieved from database dhblum.\n",
      "04/22/2021 04:34:16 PM\tdaq.daq.interfacedb INFO\tData for zone_054_heating_sp retrieved from database dhblum.\n",
      "04/22/2021 04:34:17 PM\tdaq.daq.interfacedb INFO\tData for zone_055_heating_sp retrieved from database dhblum.\n",
      "04/22/2021 04:34:18 PM\tdaq.daq.interfacedb INFO\tData for zone_056_heating_sp retrieved from database dhblum.\n",
      "04/22/2021 04:34:20 PM\tdaq.daq.interfacedb INFO\tData for zone_057_heating_sp retrieved from database dhblum.\n",
      "04/22/2021 04:34:22 PM\tdaq.daq.interfacedb INFO\tData for zone_058_heating_sp retrieved from database dhblum.\n",
      "04/22/2021 04:34:24 PM\tdaq.daq.interfacedb INFO\tData for zone_059_heating_sp retrieved from database dhblum.\n",
      "04/22/2021 04:34:25 PM\tdaq.daq.interfacedb INFO\tData for zone_061_heating_sp retrieved from database dhblum.\n",
      "04/22/2021 04:34:29 PM\tdaq.daq.interfacedb INFO\tData for zone_062_heating_sp retrieved from database dhblum.\n",
      "04/22/2021 04:34:30 PM\tdaq.daq.interfacedb INFO\tData for zone_063_heating_sp retrieved from database dhblum.\n",
      "04/22/2021 04:34:32 PM\tdaq.daq.interfacedb INFO\tData for zone_064_heating_sp retrieved from database dhblum.\n",
      "04/22/2021 04:34:33 PM\tdaq.daq.interfacedb INFO\tData for zone_065_heating_sp retrieved from database dhblum.\n",
      "04/22/2021 04:34:34 PM\tdaq.daq.interfacedb INFO\tData for zone_066_heating_sp retrieved from database dhblum.\n",
      "04/22/2021 04:34:35 PM\tdaq.daq.interfacedb INFO\tData for zone_067_heating_sp retrieved from database dhblum.\n",
      "04/22/2021 04:34:40 PM\tdaq.daq.interfacedb INFO\tData for zone_068_heating_sp retrieved from database dhblum.\n",
      "04/22/2021 04:34:41 PM\tdaq.daq.interfacedb INFO\tData for zone_069_heating_sp retrieved from database dhblum.\n",
      "04/22/2021 04:34:42 PM\tdaq.daq.interfacedb INFO\tData for zone_070_heating_sp retrieved from database dhblum.\n",
      "04/22/2021 04:34:43 PM\tdaq.daq.interfacedb INFO\tData for zone_071_heating_sp retrieved from database dhblum.\n",
      "04/22/2021 04:34:48 PM\tdaq.daq.interfacedb INFO\tData for zone_072_heating_sp retrieved from database dhblum.\n",
      "04/22/2021 04:34:59 PM\tdaq.daq.interfacedb INFO\tData for zone_016_cooling_sp retrieved from database dhblum.\n",
      "04/22/2021 04:35:00 PM\tdaq.daq.interfacedb INFO\tData for zone_017_cooling_sp retrieved from database dhblum.\n",
      "04/22/2021 04:35:01 PM\tdaq.daq.interfacedb INFO\tData for zone_018_cooling_sp retrieved from database dhblum.\n",
      "04/22/2021 04:35:02 PM\tdaq.daq.interfacedb INFO\tData for zone_019_cooling_sp retrieved from database dhblum.\n",
      "04/22/2021 04:35:03 PM\tdaq.daq.interfacedb INFO\tData for zone_021_cooling_sp retrieved from database dhblum.\n",
      "04/22/2021 04:35:05 PM\tdaq.daq.interfacedb INFO\tData for zone_022_cooling_sp retrieved from database dhblum.\n",
      "04/22/2021 04:35:06 PM\tdaq.daq.interfacedb INFO\tData for zone_023_cooling_sp retrieved from database dhblum.\n",
      "04/22/2021 04:35:07 PM\tdaq.daq.interfacedb INFO\tData for zone_024_cooling_sp retrieved from database dhblum.\n",
      "04/22/2021 04:35:08 PM\tdaq.daq.interfacedb INFO\tData for zone_025_cooling_sp retrieved from database dhblum.\n",
      "04/22/2021 04:35:09 PM\tdaq.daq.interfacedb INFO\tData for zone_026_cooling_sp retrieved from database dhblum.\n",
      "04/22/2021 04:35:10 PM\tdaq.daq.interfacedb INFO\tData for zone_027_cooling_sp retrieved from database dhblum.\n",
      "04/22/2021 04:35:11 PM\tdaq.daq.interfacedb INFO\tData for zone_028_cooling_sp retrieved from database dhblum.\n",
      "04/22/2021 04:35:12 PM\tdaq.daq.interfacedb INFO\tData for zone_030_cooling_sp retrieved from database dhblum.\n",
      "04/22/2021 04:35:13 PM\tdaq.daq.interfacedb INFO\tData for zone_032_cooling_sp retrieved from database dhblum.\n",
      "04/22/2021 04:35:17 PM\tdaq.daq.interfacedb INFO\tData for zone_033_cooling_sp retrieved from database dhblum.\n",
      "04/22/2021 04:35:18 PM\tdaq.daq.interfacedb INFO\tData for zone_035_cooling_sp retrieved from database dhblum.\n",
      "04/22/2021 04:35:19 PM\tdaq.daq.interfacedb INFO\tData for zone_036_cooling_sp retrieved from database dhblum.\n",
      "04/22/2021 04:35:20 PM\tdaq.daq.interfacedb INFO\tData for zone_037_cooling_sp retrieved from database dhblum.\n",
      "04/22/2021 04:35:21 PM\tdaq.daq.interfacedb INFO\tData for zone_038_cooling_sp retrieved from database dhblum.\n",
      "04/22/2021 04:35:22 PM\tdaq.daq.interfacedb INFO\tData for zone_039_cooling_sp retrieved from database dhblum.\n",
      "04/22/2021 04:35:26 PM\tdaq.daq.interfacedb INFO\tData for zone_040_cooling_sp retrieved from database dhblum.\n",
      "04/22/2021 04:35:28 PM\tdaq.daq.interfacedb INFO\tData for zone_041_cooling_sp retrieved from database dhblum.\n",
      "04/22/2021 04:35:29 PM\tdaq.daq.interfacedb INFO\tData for zone_042_cooling_sp retrieved from database dhblum.\n",
      "04/22/2021 04:35:30 PM\tdaq.daq.interfacedb INFO\tData for zone_043_cooling_sp retrieved from database dhblum.\n",
      "04/22/2021 04:35:34 PM\tdaq.daq.interfacedb INFO\tData for zone_044_cooling_sp retrieved from database dhblum.\n",
      "04/22/2021 04:35:37 PM\tdaq.daq.interfacedb INFO\tData for zone_045_cooling_sp retrieved from database dhblum.\n",
      "04/22/2021 04:35:38 PM\tdaq.daq.interfacedb INFO\tData for zone_046_cooling_sp retrieved from database dhblum.\n",
      "04/22/2021 04:35:39 PM\tdaq.daq.interfacedb INFO\tData for zone_047_cooling_sp retrieved from database dhblum.\n",
      "04/22/2021 04:35:40 PM\tdaq.daq.interfacedb INFO\tData for zone_048_cooling_sp retrieved from database dhblum.\n",
      "04/22/2021 04:35:42 PM\tdaq.daq.interfacedb INFO\tData for zone_049_cooling_sp retrieved from database dhblum.\n",
      "04/22/2021 04:35:43 PM\tdaq.daq.interfacedb INFO\tData for zone_051_cooling_sp retrieved from database dhblum.\n",
      "04/22/2021 04:35:47 PM\tdaq.daq.interfacedb INFO\tData for zone_052_cooling_sp retrieved from database dhblum.\n"
     ]
    },
    {
     "name": "stderr",
     "output_type": "stream",
     "text": [
      "04/22/2021 04:35:48 PM\tdaq.daq.interfacedb INFO\tData for zone_053_cooling_sp retrieved from database dhblum.\n",
      "04/22/2021 04:35:49 PM\tdaq.daq.interfacedb INFO\tData for zone_054_cooling_sp retrieved from database dhblum.\n",
      "04/22/2021 04:35:50 PM\tdaq.daq.interfacedb INFO\tData for zone_055_cooling_sp retrieved from database dhblum.\n",
      "04/22/2021 04:35:51 PM\tdaq.daq.interfacedb INFO\tData for zone_056_cooling_sp retrieved from database dhblum.\n",
      "04/22/2021 04:35:52 PM\tdaq.daq.interfacedb INFO\tData for zone_057_cooling_sp retrieved from database dhblum.\n",
      "04/22/2021 04:35:55 PM\tdaq.daq.interfacedb INFO\tData for zone_058_cooling_sp retrieved from database dhblum.\n",
      "04/22/2021 04:35:57 PM\tdaq.daq.interfacedb INFO\tData for zone_059_cooling_sp retrieved from database dhblum.\n",
      "04/22/2021 04:35:58 PM\tdaq.daq.interfacedb INFO\tData for zone_061_cooling_sp retrieved from database dhblum.\n",
      "04/22/2021 04:36:02 PM\tdaq.daq.interfacedb INFO\tData for zone_062_cooling_sp retrieved from database dhblum.\n",
      "04/22/2021 04:36:03 PM\tdaq.daq.interfacedb INFO\tData for zone_063_cooling_sp retrieved from database dhblum.\n",
      "04/22/2021 04:36:04 PM\tdaq.daq.interfacedb INFO\tData for zone_064_cooling_sp retrieved from database dhblum.\n",
      "04/22/2021 04:36:06 PM\tdaq.daq.interfacedb INFO\tData for zone_065_cooling_sp retrieved from database dhblum.\n",
      "04/22/2021 04:36:07 PM\tdaq.daq.interfacedb INFO\tData for zone_066_cooling_sp retrieved from database dhblum.\n",
      "04/22/2021 04:36:08 PM\tdaq.daq.interfacedb INFO\tData for zone_067_cooling_sp retrieved from database dhblum.\n",
      "04/22/2021 04:36:13 PM\tdaq.daq.interfacedb INFO\tData for zone_068_cooling_sp retrieved from database dhblum.\n",
      "04/22/2021 04:36:14 PM\tdaq.daq.interfacedb INFO\tData for zone_069_cooling_sp retrieved from database dhblum.\n",
      "04/22/2021 04:36:15 PM\tdaq.daq.interfacedb INFO\tData for zone_070_cooling_sp retrieved from database dhblum.\n",
      "04/22/2021 04:36:16 PM\tdaq.daq.interfacedb INFO\tData for zone_071_cooling_sp retrieved from database dhblum.\n",
      "04/22/2021 04:36:21 PM\tdaq.daq.interfacedb INFO\tData for zone_072_cooling_sp retrieved from database dhblum.\n",
      "04/22/2021 04:36:35 PM\tdaq.daq.interfacedb INFO\tData for rtu_001_sat_sp_tn retrieved from database dhblum.\n",
      "04/22/2021 04:36:40 PM\tdaq.daq.interfacedb INFO\tData for rtu_002_sat_sp_tn retrieved from database dhblum.\n",
      "04/22/2021 04:36:44 PM\tdaq.daq.interfacedb INFO\tData for rtu_003_sat_sp_tn retrieved from database dhblum.\n",
      "04/22/2021 04:36:49 PM\tdaq.daq.interfacedb INFO\tData for rtu_004_sat_sp_tn retrieved from database dhblum.\n",
      "04/22/2021 04:36:57 PM\tdaq.daq.interfacedb INFO\tData for rtu_001_sa_temp retrieved from database dhblum.\n",
      "04/22/2021 04:37:02 PM\tdaq.daq.interfacedb INFO\tData for rtu_002_sa_temp retrieved from database dhblum.\n",
      "04/22/2021 04:37:07 PM\tdaq.daq.interfacedb INFO\tData for rtu_003_sa_temp retrieved from database dhblum.\n",
      "04/22/2021 04:37:12 PM\tdaq.daq.interfacedb INFO\tData for rtu_004_sa_temp retrieved from database dhblum.\n",
      "04/22/2021 04:37:20 PM\tdaq.daq.interfacedb INFO\tData for rtu_001_pa_static_stpt_tn retrieved from database dhblum.\n",
      "04/22/2021 04:37:24 PM\tdaq.daq.interfacedb INFO\tData for rtu_002_pa_static_stpt_tn retrieved from database dhblum.\n",
      "04/22/2021 04:37:29 PM\tdaq.daq.interfacedb INFO\tData for rtu_003_pa_static_stpt_tn retrieved from database dhblum.\n",
      "04/22/2021 04:37:33 PM\tdaq.daq.interfacedb INFO\tData for rtu_004_pa_static_stpt_tn retrieved from database dhblum.\n",
      "04/22/2021 04:37:41 PM\tdaq.daq.interfacedb INFO\tData for rtu_001_fltrd_sa_flow_tn retrieved from database dhblum.\n",
      "04/22/2021 04:37:45 PM\tdaq.daq.interfacedb INFO\tData for rtu_002_fltrd_sa_flow_tn retrieved from database dhblum.\n",
      "04/22/2021 04:37:50 PM\tdaq.daq.interfacedb INFO\tData for rtu_003_fltrd_sa_flow_tn retrieved from database dhblum.\n",
      "04/22/2021 04:37:54 PM\tdaq.daq.interfacedb INFO\tData for rtu_004_fltrd_sa_flow_tn retrieved from database dhblum.\n",
      "04/22/2021 04:38:02 PM\tdaq.daq.interfacedb INFO\tData for zone_016_hw_valve retrieved from database dhblum.\n",
      "04/22/2021 04:38:07 PM\tdaq.daq.interfacedb INFO\tData for zone_017_hw_valve retrieved from database dhblum.\n",
      "04/22/2021 04:38:11 PM\tdaq.daq.interfacedb INFO\tData for zone_018_hw_valve retrieved from database dhblum.\n",
      "04/22/2021 04:38:16 PM\tdaq.daq.interfacedb INFO\tData for zone_021_hw_valve retrieved from database dhblum.\n",
      "04/22/2021 04:38:19 PM\tdaq.daq.interfacedb INFO\tData for zone_022_hw_valve retrieved from database dhblum.\n",
      "04/22/2021 04:38:23 PM\tdaq.daq.interfacedb INFO\tData for zone_023_hw_valve retrieved from database dhblum.\n",
      "04/22/2021 04:38:27 PM\tdaq.daq.interfacedb INFO\tData for zone_024_hw_valve retrieved from database dhblum.\n",
      "04/22/2021 04:38:32 PM\tdaq.daq.interfacedb INFO\tData for zone_025_hw_valve retrieved from database dhblum.\n",
      "04/22/2021 04:38:36 PM\tdaq.daq.interfacedb INFO\tData for zone_026_hw_valve retrieved from database dhblum.\n",
      "04/22/2021 04:38:40 PM\tdaq.daq.interfacedb INFO\tData for zone_027_hw_valve retrieved from database dhblum.\n",
      "04/22/2021 04:38:45 PM\tdaq.daq.interfacedb INFO\tData for zone_028_hw_valve retrieved from database dhblum.\n",
      "04/22/2021 04:38:49 PM\tdaq.daq.interfacedb INFO\tData for zone_035_hw_valve retrieved from database dhblum.\n",
      "04/22/2021 04:38:53 PM\tdaq.daq.interfacedb INFO\tData for zone_036_hw_valve retrieved from database dhblum.\n",
      "04/22/2021 04:38:58 PM\tdaq.daq.interfacedb INFO\tData for zone_037_hw_valve retrieved from database dhblum.\n",
      "04/22/2021 04:39:02 PM\tdaq.daq.interfacedb INFO\tData for zone_038_hw_valve retrieved from database dhblum.\n",
      "04/22/2021 04:39:07 PM\tdaq.daq.interfacedb INFO\tData for zone_039_hw_valve retrieved from database dhblum.\n",
      "04/22/2021 04:39:11 PM\tdaq.daq.interfacedb INFO\tData for zone_040_hw_valve retrieved from database dhblum.\n",
      "04/22/2021 04:39:16 PM\tdaq.daq.interfacedb INFO\tData for zone_041_hw_valve retrieved from database dhblum.\n",
      "04/22/2021 04:39:20 PM\tdaq.daq.interfacedb INFO\tData for zone_042_hw_valve retrieved from database dhblum.\n",
      "04/22/2021 04:39:25 PM\tdaq.daq.interfacedb INFO\tData for zone_043_hw_valve retrieved from database dhblum.\n",
      "04/22/2021 04:39:29 PM\tdaq.daq.interfacedb INFO\tData for zone_044_hw_valve retrieved from database dhblum.\n",
      "04/22/2021 04:39:34 PM\tdaq.daq.interfacedb INFO\tData for zone_045_hw_valve retrieved from database dhblum.\n",
      "04/22/2021 04:39:38 PM\tdaq.daq.interfacedb INFO\tData for zone_046_hw_valve retrieved from database dhblum.\n",
      "04/22/2021 04:39:42 PM\tdaq.daq.interfacedb INFO\tData for zone_047_hw_valve retrieved from database dhblum.\n",
      "04/22/2021 04:39:44 PM\tdaq.daq.interfacedb INFO\tData for zone_048_hw_valve retrieved from database dhblum.\n",
      "04/22/2021 04:39:48 PM\tdaq.daq.interfacedb INFO\tData for zone_051_hw_valve retrieved from database dhblum.\n",
      "04/22/2021 04:39:52 PM\tdaq.daq.interfacedb INFO\tData for zone_052_hw_valve retrieved from database dhblum.\n",
      "04/22/2021 04:39:57 PM\tdaq.daq.interfacedb INFO\tData for zone_053_hw_valve retrieved from database dhblum.\n",
      "04/22/2021 04:40:01 PM\tdaq.daq.interfacedb INFO\tData for zone_054_hw_valve retrieved from database dhblum.\n",
      "04/22/2021 04:40:06 PM\tdaq.daq.interfacedb INFO\tData for zone_055_hw_valve retrieved from database dhblum.\n",
      "04/22/2021 04:40:10 PM\tdaq.daq.interfacedb INFO\tData for zone_056_hw_valve retrieved from database dhblum.\n",
      "04/22/2021 04:40:15 PM\tdaq.daq.interfacedb INFO\tData for zone_057_hw_valve retrieved from database dhblum.\n",
      "04/22/2021 04:40:19 PM\tdaq.daq.interfacedb INFO\tData for zone_058_hw_valve retrieved from database dhblum.\n",
      "04/22/2021 04:40:24 PM\tdaq.daq.interfacedb INFO\tData for zone_061_hw_valve retrieved from database dhblum.\n",
      "04/22/2021 04:40:28 PM\tdaq.daq.interfacedb INFO\tData for zone_063_hw_valve retrieved from database dhblum.\n",
      "04/22/2021 04:40:33 PM\tdaq.daq.interfacedb INFO\tData for zone_064_hw_valve retrieved from database dhblum.\n",
      "04/22/2021 04:40:37 PM\tdaq.daq.interfacedb INFO\tData for zone_065_hw_valve retrieved from database dhblum.\n",
      "04/22/2021 04:40:42 PM\tdaq.daq.interfacedb INFO\tData for zone_066_hw_valve retrieved from database dhblum.\n",
      "04/22/2021 04:40:46 PM\tdaq.daq.interfacedb INFO\tData for zone_067_hw_valve retrieved from database dhblum.\n",
      "04/22/2021 04:40:51 PM\tdaq.daq.interfacedb INFO\tData for zone_068_hw_valve retrieved from database dhblum.\n",
      "04/22/2021 04:40:55 PM\tdaq.daq.interfacedb INFO\tData for zone_069_hw_valve retrieved from database dhblum.\n"
     ]
    },
    {
     "name": "stderr",
     "output_type": "stream",
     "text": [
      "04/22/2021 04:41:00 PM\tdaq.daq.interfacedb INFO\tData for zone_070_hw_valve retrieved from database dhblum.\n",
      "04/22/2021 04:41:04 PM\tdaq.daq.interfacedb INFO\tData for zone_071_hw_valve retrieved from database dhblum.\n",
      "04/22/2021 04:41:09 PM\tdaq.daq.interfacedb INFO\tData for zone_072_hw_valve retrieved from database dhblum.\n",
      "04/22/2021 04:41:19 PM\tdaq.daq.interfacedb INFO\tData for aru1_hws_temp retrieved from database dhblum.\n",
      "04/22/2021 04:41:24 PM\tdaq.daq.interfacedb INFO\tData for aru_001_hws_temp retrieved from database dhblum.\n",
      "04/22/2021 04:41:29 PM\tdaq.daq.interfacedb INFO\tData for hp_hws_temp retrieved from database dhblum.\n",
      "04/22/2021 04:41:36 PM\tdaq.daq.interfacedb INFO\tData for zone_016_fan_spd retrieved from database dhblum.\n",
      "04/22/2021 04:41:40 PM\tdaq.daq.interfacedb INFO\tData for zone_017_fan_spd retrieved from database dhblum.\n",
      "04/22/2021 04:41:45 PM\tdaq.daq.interfacedb INFO\tData for zone_018_fan_spd retrieved from database dhblum.\n",
      "04/22/2021 04:41:49 PM\tdaq.daq.interfacedb INFO\tData for zone_019_fan_spd retrieved from database dhblum.\n",
      "04/22/2021 04:41:53 PM\tdaq.daq.interfacedb INFO\tData for zone_021_fan_spd retrieved from database dhblum.\n",
      "04/22/2021 04:41:56 PM\tdaq.daq.interfacedb INFO\tData for zone_022_fan_spd retrieved from database dhblum.\n",
      "04/22/2021 04:42:00 PM\tdaq.daq.interfacedb INFO\tData for zone_023_fan_spd retrieved from database dhblum.\n",
      "04/22/2021 04:42:04 PM\tdaq.daq.interfacedb INFO\tData for zone_024_fan_spd retrieved from database dhblum.\n",
      "04/22/2021 04:42:09 PM\tdaq.daq.interfacedb INFO\tData for zone_025_fan_spd retrieved from database dhblum.\n",
      "04/22/2021 04:42:13 PM\tdaq.daq.interfacedb INFO\tData for zone_026_fan_spd retrieved from database dhblum.\n",
      "04/22/2021 04:42:17 PM\tdaq.daq.interfacedb INFO\tData for zone_027_fan_spd retrieved from database dhblum.\n",
      "04/22/2021 04:42:22 PM\tdaq.daq.interfacedb INFO\tData for zone_028_fan_spd retrieved from database dhblum.\n",
      "04/22/2021 04:42:26 PM\tdaq.daq.interfacedb INFO\tData for zone_030_fan_spd retrieved from database dhblum.\n",
      "04/22/2021 04:42:30 PM\tdaq.daq.interfacedb INFO\tData for zone_032_fan_spd retrieved from database dhblum.\n",
      "04/22/2021 04:42:35 PM\tdaq.daq.interfacedb INFO\tData for zone_033_fan_spd retrieved from database dhblum.\n",
      "04/22/2021 04:42:39 PM\tdaq.daq.interfacedb INFO\tData for zone_035_fan_spd retrieved from database dhblum.\n",
      "04/22/2021 04:42:43 PM\tdaq.daq.interfacedb INFO\tData for zone_036_fan_spd retrieved from database dhblum.\n",
      "04/22/2021 04:42:48 PM\tdaq.daq.interfacedb INFO\tData for zone_037_fan_spd retrieved from database dhblum.\n",
      "04/22/2021 04:42:52 PM\tdaq.daq.interfacedb INFO\tData for zone_038_fan_spd retrieved from database dhblum.\n",
      "04/22/2021 04:42:56 PM\tdaq.daq.interfacedb INFO\tData for zone_039_fan_spd retrieved from database dhblum.\n",
      "04/22/2021 04:43:01 PM\tdaq.daq.interfacedb INFO\tData for zone_040_fan_spd retrieved from database dhblum.\n",
      "04/22/2021 04:43:05 PM\tdaq.daq.interfacedb INFO\tData for zone_041_fan_spd retrieved from database dhblum.\n",
      "04/22/2021 04:43:10 PM\tdaq.daq.interfacedb INFO\tData for zone_042_fan_spd retrieved from database dhblum.\n",
      "04/22/2021 04:43:14 PM\tdaq.daq.interfacedb INFO\tData for zone_043_fan_spd retrieved from database dhblum.\n",
      "04/22/2021 04:43:19 PM\tdaq.daq.interfacedb INFO\tData for zone_044_fan_spd retrieved from database dhblum.\n",
      "04/22/2021 04:43:24 PM\tdaq.daq.interfacedb INFO\tData for zone_045_fan_spd retrieved from database dhblum.\n",
      "04/22/2021 04:43:28 PM\tdaq.daq.interfacedb INFO\tData for zone_046_fan_spd retrieved from database dhblum.\n",
      "04/22/2021 04:43:34 PM\tdaq.daq.interfacedb INFO\tData for zone_047_fan_spd retrieved from database dhblum.\n",
      "04/22/2021 04:43:35 PM\tdaq.daq.interfacedb INFO\tData for zone_048_fan_spd retrieved from database dhblum.\n",
      "04/22/2021 04:43:39 PM\tdaq.daq.interfacedb INFO\tData for zone_049_fan_spd retrieved from database dhblum.\n",
      "04/22/2021 04:43:44 PM\tdaq.daq.interfacedb INFO\tData for zone_051_fan_spd retrieved from database dhblum.\n",
      "04/22/2021 04:43:48 PM\tdaq.daq.interfacedb INFO\tData for zone_052_fan_spd retrieved from database dhblum.\n",
      "04/22/2021 04:43:53 PM\tdaq.daq.interfacedb INFO\tData for zone_053_fan_spd retrieved from database dhblum.\n",
      "04/22/2021 04:43:58 PM\tdaq.daq.interfacedb INFO\tData for zone_054_fan_spd retrieved from database dhblum.\n",
      "04/22/2021 04:44:03 PM\tdaq.daq.interfacedb INFO\tData for zone_055_fan_spd retrieved from database dhblum.\n",
      "04/22/2021 04:44:07 PM\tdaq.daq.interfacedb INFO\tData for zone_056_fan_spd retrieved from database dhblum.\n",
      "04/22/2021 04:44:12 PM\tdaq.daq.interfacedb INFO\tData for zone_057_fan_spd retrieved from database dhblum.\n",
      "04/22/2021 04:44:16 PM\tdaq.daq.interfacedb INFO\tData for zone_058_fan_spd retrieved from database dhblum.\n",
      "04/22/2021 04:44:21 PM\tdaq.daq.interfacedb INFO\tData for zone_059_fan_spd retrieved from database dhblum.\n",
      "04/22/2021 04:44:25 PM\tdaq.daq.interfacedb INFO\tData for zone_061_fan_spd retrieved from database dhblum.\n",
      "04/22/2021 04:44:27 PM\tdaq.daq.interfacedb INFO\tData for zone_062_fan_spd retrieved from database dhblum.\n",
      "04/22/2021 04:44:31 PM\tdaq.daq.interfacedb INFO\tData for zone_063_fan_spd retrieved from database dhblum.\n",
      "04/22/2021 04:44:36 PM\tdaq.daq.interfacedb INFO\tData for zone_064_fan_spd retrieved from database dhblum.\n",
      "04/22/2021 04:44:40 PM\tdaq.daq.interfacedb INFO\tData for zone_065_fan_spd retrieved from database dhblum.\n",
      "04/22/2021 04:44:45 PM\tdaq.daq.interfacedb INFO\tData for zone_066_fan_spd retrieved from database dhblum.\n",
      "04/22/2021 04:44:49 PM\tdaq.daq.interfacedb INFO\tData for zone_067_fan_spd retrieved from database dhblum.\n",
      "04/22/2021 04:44:54 PM\tdaq.daq.interfacedb INFO\tData for zone_068_fan_spd retrieved from database dhblum.\n",
      "04/22/2021 04:44:58 PM\tdaq.daq.interfacedb INFO\tData for zone_069_fan_spd retrieved from database dhblum.\n",
      "04/22/2021 04:45:03 PM\tdaq.daq.interfacedb INFO\tData for zone_070_fan_spd retrieved from database dhblum.\n",
      "04/22/2021 04:45:07 PM\tdaq.daq.interfacedb INFO\tData for zone_071_fan_spd retrieved from database dhblum.\n",
      "04/22/2021 04:45:12 PM\tdaq.daq.interfacedb INFO\tData for zone_072_fan_spd retrieved from database dhblum.\n"
     ]
    }
   ],
   "source": [
    "list_data_list = [site_weather, zone_temp_exterior, zone_temp_interior,\n",
    "                  zone_temp_sp_h, zone_temp_sp_c,\n",
    "                  rtu_sa_t_sp, rtu_sa_t, oa, economizer, \n",
    "                  rtu_sa_p_sp, rtu_sa_fr,\n",
    "                  uft_hw_valve, hp_hws_temp, uft_fan_spd]\n",
    "list_file_name = ['site_weather', 'zone_temp_exterior', 'zone_temp_interior',\n",
    "                  'zone_temp_sp_h', 'zone_temp_sp_c',\n",
    "                  'rtu_sa_t_sp', 'rtu_sa_t', 'outside_air', 'economizer',\n",
    "                  'rtu_sa_p_sp', 'rtu_sa_fr',\n",
    "                  'uft_hw_valve', 'hp_hws_temp', 'uft_fan_spd']\n",
    "\n",
    "for data_list, file_name in zip(list_data_list,list_file_name):\n",
    "    download_data_raw(data_list,file_name)"
   ]
  },
  {
   "cell_type": "code",
   "execution_count": null,
   "metadata": {},
   "outputs": [],
   "source": [
    "# zone number mapping\n",
    "zone_list_2_north = ['016','017','018','021','022','023','024','025','026','027','028']\n",
    "zone_list_2_south = ['035','036','037','038','039','040','041','042','043','044']\n",
    "zone_list_1_north = ['046','047','048','051','052','053','054','055','056','057', '058']\n",
    "zone_list_1_south = ['063','064','065','066','067','068','069','070','071','072']\n",
    "zone_list_core = ['019', '030', '032', '033', '045', '059', '061', '062', '049']"
   ]
  },
  {
   "cell_type": "markdown",
   "metadata": {},
   "source": [
    "## Version 2 - after discussion with Dave"
   ]
  },
  {
   "cell_type": "code",
   "execution_count": 29,
   "metadata": {},
   "outputs": [],
   "source": [
    "start_time = '2018-01-01'\n",
    "final_time = '2021-01-01'\n",
    "\n",
    "path_to_file = 'data/version2'"
   ]
  },
  {
   "cell_type": "code",
   "execution_count": 30,
   "metadata": {},
   "outputs": [
    {
     "data": {
      "text/plain": [
       "[u'rtu_001_econ_stpt_tn',\n",
       " u'rtu_002_econ_stpt_tn',\n",
       " u'rtu_003_econ_stpt_tn',\n",
       " u'rtu_004_econ_stpt_tn',\n",
       " u'rtu_001_oa_flow_tn',\n",
       " u'rtu_002_oa_flow_tn',\n",
       " u'rtu_003_oa_flow_tn',\n",
       " u'rtu_004_oa_flow_tn',\n",
       " u'rtu_001_oadmpr_pct',\n",
       " u'rtu_002_oadmpr_pct',\n",
       " u'rtu_003_oadmpr_pct',\n",
       " u'rtu_004_oadmpr_pct']"
      ]
     },
     "execution_count": 30,
     "metadata": {},
     "output_type": "execute_result"
    }
   ],
   "source": [
    "# Economizer\n",
    "economizer_stpt_re = re.compile(\"rtu_.*_econ_stpt_tn\")\n",
    "economizer_stpt = list(filter(economizer_re.match, mea_list))\n",
    "\n",
    "oa_flow_rate_re = re.compile(\"rtu_.*_oa_flow_tn\")\n",
    "oa_flow_rate = list(filter(oa_flow_rate_re.match, mea_list))\n",
    "\n",
    "oa_damper_position_re = re.compile(\"rtu_.*_oadmpr_pct\")\n",
    "oa_damper_position = list(filter(oa_damper_position_re.match, mea_list))\n",
    "\n",
    "economizer = economizer_stpt + oa_flow_rate + oa_damper_position\n",
    "economizer"
   ]
  },
  {
   "cell_type": "code",
   "execution_count": 21,
   "metadata": {},
   "outputs": [
    {
     "data": {
      "text/plain": [
       "[u'rtu_001_ra_temp',\n",
       " u'rtu_002_ra_temp',\n",
       " u'rtu_003_ra_temp',\n",
       " u'rtu_004_ra_temp',\n",
       " u'rtu_001_sa_temp',\n",
       " u'rtu_002_sa_temp',\n",
       " u'rtu_003_sa_temp',\n",
       " u'rtu_004_sa_temp',\n",
       " u'rtu_001_ma_temp',\n",
       " u'rtu_002_ma_temp',\n",
       " u'rtu_003_ma_temp',\n",
       " u'rtu_004_ma_temp',\n",
       " u'rtu_001_oa_temp',\n",
       " u'rtu_002_oa_temp',\n",
       " u'rtu_003_oa_temp',\n",
       " u'rtu_004_oa_temp']"
      ]
     },
     "execution_count": 21,
     "metadata": {},
     "output_type": "execute_result"
    }
   ],
   "source": [
    "# air temperature in rtu\n",
    "ra_temp_re = re.compile(\"rtu_.*_ra_temp\")\n",
    "ra_temp = list(filter(ra_temp_re.match, mea_list))\n",
    "\n",
    "sa_temp_re = re.compile(\"rtu_.*_sa_temp\")\n",
    "sa_temp = list(filter(sa_temp_re.match, mea_list))\n",
    "\n",
    "ma_temp_re = re.compile(\"rtu_.*_ma_temp\")\n",
    "ma_temp = list(filter(ma_temp_re.match, mea_list))\n",
    "\n",
    "oa_temp_re = re.compile(\"rtu_.*_oa_temp\")\n",
    "oa_temp = list(filter(oa_temp_re.match, mea_list))\n",
    "\n",
    "rtu_temp = ra_temp + sa_temp + ma_temp + oa_temp\n",
    "rtu_temp"
   ]
  },
  {
   "cell_type": "code",
   "execution_count": 22,
   "metadata": {},
   "outputs": [
    {
     "data": {
      "text/plain": [
       "[u'rtu_001_sf_vfd_spd_fbk_tn',\n",
       " u'rtu_002_sf_vfd_spd_fbk_tn',\n",
       " u'rtu_003_sf_vfd_spd_fbk_tn',\n",
       " u'rtu_004_sf_vfd_spd_fbk_tn',\n",
       " u'rtu_001_rf_vfd_spd_fbk_tn',\n",
       " u'rtu_002_rf_vfd_spd_fbk_tn',\n",
       " u'rtu_003_rf_vfd_spd_fbk_tn',\n",
       " u'rtu_004_rf_vfd_spd_fbk_tn']"
      ]
     },
     "execution_count": 22,
     "metadata": {},
     "output_type": "execute_result"
    }
   ],
   "source": [
    "# RTU fan speed\n",
    "rtu_supply_fan_speed_re = re.compile(\"rtu_.*_sf_vfd_spd_fbk_tn\")\n",
    "rtu_supply_fan_speed = list(filter(rtu_supply_fan_speed_re.match, mea_list))\n",
    "\n",
    "rtu_return_fan_speed_re = re.compile(\"rtu_.*_rf_vfd_spd_fbk_tn\")\n",
    "rtu_return_fan_speed = list(filter(rtu_return_fan_speed_re.match, mea_list))\n",
    "\n",
    "rtu_fan = rtu_supply_fan_speed + rtu_return_fan_speed\n",
    "rtu_fan"
   ]
  },
  {
   "cell_type": "code",
   "execution_count": 23,
   "metadata": {},
   "outputs": [
    {
     "data": {
      "text/plain": [
       "[u'rtu_001_fltrd_gnd_lvl_plenum_press_tn',\n",
       " u'rtu_002_fltrd_gnd_lvl_plenum_press_tn',\n",
       " u'rtu_003_fltrd_gnd_lvl_plenum_press_tn',\n",
       " u'rtu_004_fltrd_gnd_lvl_plenum_press_tn',\n",
       " u'rtu_001_fltrd_lvl2_plenum_press_tn',\n",
       " u'rtu_002_fltrd_lvl2_plenum_press_tn',\n",
       " u'rtu_003_fltrd_lvl2_plenum_press_tn',\n",
       " u'rtu_004_fltrd_lvl2_plenum_press_tn']"
      ]
     },
     "execution_count": 23,
     "metadata": {},
     "output_type": "execute_result"
    }
   ],
   "source": [
    "# RTU plenum pressure\n",
    "rtu_lvl_plenum_press_re = re.compile(\"rtu_.*_fltrd_gnd_lvl_plenum_press_tn\")\n",
    "rtu_lvl_plenum_press = list(filter(rtu_lvl_plenum_press_re.match, mea_list))\n",
    "\n",
    "rtu_lv2_plenum_press_re = re.compile(\"rtu_.*_fltrd_lvl2_plenum_press_tn\")\n",
    "rtu_lv2_plenum_press = list(filter(rtu_lv2_plenum_press_re.match, mea_list))\n",
    "\n",
    "rtu_plenum_pressure = rtu_lvl_plenum_press + rtu_lv2_plenum_press\n",
    "rtu_plenum_pressure"
   ]
  },
  {
   "cell_type": "code",
   "execution_count": 32,
   "metadata": {},
   "outputs": [
    {
     "data": {
      "text/plain": [
       "[u'aru_001_cwr_temp',\n",
       " u'aru_001_cws_fr_gpm',\n",
       " u'aru_001_cws_temp',\n",
       " u'aru_001_hwr_temp',\n",
       " u'aru_001_hws_fr_gpm',\n",
       " u'aru_001_hws_temp',\n",
       " u'aru_001_power_mbtuph']"
      ]
     },
     "execution_count": 32,
     "metadata": {},
     "output_type": "execute_result"
    }
   ],
   "source": [
    "# air source heat pump\n",
    "ashp_re = re.compile(\"aru_.*\")\n",
    "ashp = list(filter(ashp_re.match, mea_list))\n",
    "\n",
    "ashp"
   ]
  },
  {
   "cell_type": "code",
   "execution_count": 33,
   "metadata": {},
   "outputs": [
    {
     "name": "stderr",
     "output_type": "stream",
     "text": [
      "09/04/2021 01:30:47 PM\tdaq.daq.interfacedb INFO\tData for rtu_001_econ_stpt_tn retrieved from database dhblum.\n",
      "09/04/2021 01:30:58 PM\tdaq.daq.interfacedb INFO\tData for rtu_002_econ_stpt_tn retrieved from database dhblum.\n",
      "09/04/2021 01:31:10 PM\tdaq.daq.interfacedb INFO\tData for rtu_003_econ_stpt_tn retrieved from database dhblum.\n",
      "09/04/2021 01:31:21 PM\tdaq.daq.interfacedb INFO\tData for rtu_004_econ_stpt_tn retrieved from database dhblum.\n",
      "09/04/2021 01:31:25 PM\tdaq.daq.interfacedb INFO\tData for rtu_001_oa_flow_tn retrieved from database dhblum.\n",
      "09/04/2021 01:31:29 PM\tdaq.daq.interfacedb INFO\tData for rtu_002_oa_flow_tn retrieved from database dhblum.\n",
      "09/04/2021 01:31:32 PM\tdaq.daq.interfacedb INFO\tData for rtu_003_oa_flow_tn retrieved from database dhblum.\n",
      "09/04/2021 01:31:36 PM\tdaq.daq.interfacedb INFO\tData for rtu_004_oa_flow_tn retrieved from database dhblum.\n",
      "09/04/2021 01:31:48 PM\tdaq.daq.interfacedb INFO\tData for rtu_001_oadmpr_pct retrieved from database dhblum.\n",
      "09/04/2021 01:32:00 PM\tdaq.daq.interfacedb INFO\tData for rtu_002_oadmpr_pct retrieved from database dhblum.\n",
      "09/04/2021 01:32:13 PM\tdaq.daq.interfacedb INFO\tData for rtu_003_oadmpr_pct retrieved from database dhblum.\n",
      "09/04/2021 01:32:25 PM\tdaq.daq.interfacedb INFO\tData for rtu_004_oadmpr_pct retrieved from database dhblum.\n",
      "09/04/2021 01:32:50 PM\tdaq.daq.interfacedb INFO\tData for rtu_001_ra_temp retrieved from database dhblum.\n",
      "09/04/2021 01:33:01 PM\tdaq.daq.interfacedb INFO\tData for rtu_002_ra_temp retrieved from database dhblum.\n",
      "09/04/2021 01:33:14 PM\tdaq.daq.interfacedb INFO\tData for rtu_003_ra_temp retrieved from database dhblum.\n",
      "09/04/2021 01:33:26 PM\tdaq.daq.interfacedb INFO\tData for rtu_004_ra_temp retrieved from database dhblum.\n",
      "09/04/2021 01:33:40 PM\tdaq.daq.interfacedb INFO\tData for rtu_001_sa_temp retrieved from database dhblum.\n",
      "09/04/2021 01:33:54 PM\tdaq.daq.interfacedb INFO\tData for rtu_002_sa_temp retrieved from database dhblum.\n",
      "09/04/2021 01:34:08 PM\tdaq.daq.interfacedb INFO\tData for rtu_003_sa_temp retrieved from database dhblum.\n",
      "09/04/2021 01:34:23 PM\tdaq.daq.interfacedb INFO\tData for rtu_004_sa_temp retrieved from database dhblum.\n",
      "09/04/2021 01:34:38 PM\tdaq.daq.interfacedb INFO\tData for rtu_001_ma_temp retrieved from database dhblum.\n",
      "09/04/2021 01:34:52 PM\tdaq.daq.interfacedb INFO\tData for rtu_002_ma_temp retrieved from database dhblum.\n",
      "09/04/2021 01:35:06 PM\tdaq.daq.interfacedb INFO\tData for rtu_003_ma_temp retrieved from database dhblum.\n",
      "09/04/2021 01:35:20 PM\tdaq.daq.interfacedb INFO\tData for rtu_004_ma_temp retrieved from database dhblum.\n",
      "09/04/2021 01:35:33 PM\tdaq.daq.interfacedb INFO\tData for rtu_001_oa_temp retrieved from database dhblum.\n",
      "09/04/2021 01:35:46 PM\tdaq.daq.interfacedb INFO\tData for rtu_002_oa_temp retrieved from database dhblum.\n",
      "09/04/2021 01:35:59 PM\tdaq.daq.interfacedb INFO\tData for rtu_003_oa_temp retrieved from database dhblum.\n",
      "09/04/2021 01:36:12 PM\tdaq.daq.interfacedb INFO\tData for rtu_004_oa_temp retrieved from database dhblum.\n",
      "09/04/2021 01:36:42 PM\tdaq.daq.interfacedb INFO\tData for rtu_001_sf_vfd_spd_fbk_tn retrieved from database dhblum.\n",
      "09/04/2021 01:36:56 PM\tdaq.daq.interfacedb INFO\tData for rtu_002_sf_vfd_spd_fbk_tn retrieved from database dhblum.\n",
      "09/04/2021 01:37:11 PM\tdaq.daq.interfacedb INFO\tData for rtu_003_sf_vfd_spd_fbk_tn retrieved from database dhblum.\n",
      "09/04/2021 01:37:25 PM\tdaq.daq.interfacedb INFO\tData for rtu_004_sf_vfd_spd_fbk_tn retrieved from database dhblum.\n",
      "09/04/2021 01:37:38 PM\tdaq.daq.interfacedb INFO\tData for rtu_001_rf_vfd_spd_fbk_tn retrieved from database dhblum.\n",
      "09/04/2021 01:37:53 PM\tdaq.daq.interfacedb INFO\tData for rtu_002_rf_vfd_spd_fbk_tn retrieved from database dhblum.\n",
      "09/04/2021 01:38:07 PM\tdaq.daq.interfacedb INFO\tData for rtu_003_rf_vfd_spd_fbk_tn retrieved from database dhblum.\n",
      "09/04/2021 01:38:22 PM\tdaq.daq.interfacedb INFO\tData for rtu_004_rf_vfd_spd_fbk_tn retrieved from database dhblum.\n",
      "09/04/2021 01:38:47 PM\tdaq.daq.interfacedb INFO\tData for rtu_001_fltrd_gnd_lvl_plenum_press_tn retrieved from database dhblum.\n",
      "09/04/2021 01:38:59 PM\tdaq.daq.interfacedb INFO\tData for rtu_002_fltrd_gnd_lvl_plenum_press_tn retrieved from database dhblum.\n",
      "09/04/2021 01:39:12 PM\tdaq.daq.interfacedb INFO\tData for rtu_003_fltrd_gnd_lvl_plenum_press_tn retrieved from database dhblum.\n",
      "09/04/2021 01:39:26 PM\tdaq.daq.interfacedb INFO\tData for rtu_004_fltrd_gnd_lvl_plenum_press_tn retrieved from database dhblum.\n",
      "09/04/2021 01:39:38 PM\tdaq.daq.interfacedb INFO\tData for rtu_001_fltrd_lvl2_plenum_press_tn retrieved from database dhblum.\n",
      "09/04/2021 01:39:50 PM\tdaq.daq.interfacedb INFO\tData for rtu_002_fltrd_lvl2_plenum_press_tn retrieved from database dhblum.\n",
      "09/04/2021 01:40:02 PM\tdaq.daq.interfacedb INFO\tData for rtu_003_fltrd_lvl2_plenum_press_tn retrieved from database dhblum.\n",
      "09/04/2021 01:40:15 PM\tdaq.daq.interfacedb INFO\tData for rtu_004_fltrd_lvl2_plenum_press_tn retrieved from database dhblum.\n",
      "09/04/2021 01:40:30 PM\tdaq.daq.interfacedb INFO\tData for aru_001_cwr_temp retrieved from database dhblum.\n",
      "09/04/2021 01:40:32 PM\tdaq.daq.interfacedb INFO\tData for aru_001_cws_fr_gpm retrieved from database dhblum.\n",
      "09/04/2021 01:40:34 PM\tdaq.daq.interfacedb INFO\tData for aru_001_cws_temp retrieved from database dhblum.\n",
      "09/04/2021 01:40:39 PM\tdaq.daq.interfacedb INFO\tData for aru_001_hwr_temp retrieved from database dhblum.\n",
      "09/04/2021 01:40:40 PM\tdaq.daq.interfacedb INFO\tData for aru_001_hws_fr_gpm retrieved from database dhblum.\n",
      "09/04/2021 01:40:45 PM\tdaq.daq.interfacedb INFO\tData for aru_001_hws_temp retrieved from database dhblum.\n",
      "09/04/2021 01:40:45 PM\tdaq.daq.interfacedb INFO\tData for aru_001_power_mbtuph retrieved from database dhblum.\n"
     ]
    }
   ],
   "source": [
    "list_data_list = [economizer, rtu_temp, rtu_fan, rtu_plenum_pressure, ashp]\n",
    "list_file_name = ['economizer', 'rtu temperature', 'rtu fan speed', 'rtu plenum pressure', 'ashp for terminal reheat']\n",
    "\n",
    "for data_list, file_name in zip(list_data_list,list_file_name):\n",
    "    download_data_raw(data_list, file_name, path_to_file, start_time=start_time, final_time=final_time)"
   ]
  },
  {
   "cell_type": "code",
   "execution_count": null,
   "metadata": {},
   "outputs": [],
   "source": []
  },
  {
   "cell_type": "code",
   "execution_count": null,
   "metadata": {},
   "outputs": [],
   "source": []
  },
  {
   "cell_type": "code",
   "execution_count": null,
   "metadata": {},
   "outputs": [],
   "source": []
  },
  {
   "cell_type": "code",
   "execution_count": null,
   "metadata": {},
   "outputs": [],
   "source": [
    "import influxdb\n",
    "print(influxdb.__version__)"
   ]
  },
  {
   "cell_type": "code",
   "execution_count": null,
   "metadata": {},
   "outputs": [],
   "source": []
  }
 ],
 "metadata": {
  "kernelspec": {
   "display_name": "Python [conda env:cerc_b]",
   "language": "python",
   "name": "conda-env-cerc_b-py"
  },
  "language_info": {
   "codemirror_mode": {
    "name": "ipython",
    "version": 2
   },
   "file_extension": ".py",
   "mimetype": "text/x-python",
   "name": "python",
   "nbconvert_exporter": "python",
   "pygments_lexer": "ipython2",
   "version": "2.7.17"
  }
 },
 "nbformat": 4,
 "nbformat_minor": 2
}
